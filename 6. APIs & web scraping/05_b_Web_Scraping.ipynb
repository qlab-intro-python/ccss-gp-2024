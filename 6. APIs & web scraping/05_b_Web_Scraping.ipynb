{
 "cells": [
  {
   "cell_type": "markdown",
   "metadata": {},
   "source": [
    "# A very intro to web scraping"
   ]
  },
  {
   "cell_type": "markdown",
   "metadata": {},
   "source": [
    "Let´s start with a [video](https://www.youtube.com/watch?v=Ct8Gxo8StBU)"
   ]
  },
  {
   "cell_type": "markdown",
   "metadata": {},
   "source": [
    "- A lot of data isn't accessible through data sets or APIs. This data may exist on the internet as web pages, however. One way to access the data without waiting for the provider to create an API is to use a technique called web scraping\n",
    "\n",
    "- Web scraping loads a web page into Python so we can extract the information we want. We can then work with the data using standard analysis tools like `pandas` and `numpy`\n",
    "\n",
    "- Before we can do web scraping, we need to understand the structure of the web page we're working with and then find a way to extract parts of that structure in a manner that makes sense.\n",
    "\n",
    "- We'll use the `requests` library often as we learn about web scraping. (This library enables us to download a web page.) We'll also use the `beautifulsoup` library to extract the relevant parts of the web page."
   ]
  },
  {
   "cell_type": "markdown",
   "metadata": {},
   "source": [
    "## Pandas and HTML tables"
   ]
  },
  {
   "cell_type": "markdown",
   "metadata": {},
   "source": [
    "The pandas `read_html()` function is a quick and convenient way to turn an HTML table into a pandas DataFrame. This function can be useful for quickly incorporating tables from various websites without figuring out how to scrape the site’s HTML. However, there can be some challenges in cleaning and formatting the data before analyzing it.\n",
    "\n",
    "<img src=\"https://pbpython.com/images/html-to-pandas-header.png\" width=\"400\">"
   ]
  },
  {
   "cell_type": "markdown",
   "metadata": {},
   "source": [
    "You cand find a tutorial [here](https://pbpython.com/pandas-html-table.html)"
   ]
  },
  {
   "cell_type": "code",
   "execution_count": 15,
   "metadata": {},
   "outputs": [],
   "source": [
    "import pandas as pd \n",
    "URL_MEF = \"https://es.wikipedia.org/wiki/Anexo:Ministros_de_Econom%C3%ADa_del_Per%C3%BA\"\n",
    "MEF = pd.read_html(URL_MEF) "
   ]
  },
  {
   "cell_type": "code",
   "execution_count": null,
   "metadata": {},
   "outputs": [],
   "source": [
    "MEF[1]"
   ]
  },
  {
   "cell_type": "code",
   "execution_count": null,
   "metadata": {},
   "outputs": [],
   "source": [
    "MEF[1] # Starting in 1969"
   ]
  },
  {
   "cell_type": "code",
   "execution_count": 19,
   "metadata": {},
   "outputs": [
    {
     "data": {
      "text/html": [
       "<div>\n",
       "<style scoped>\n",
       "    .dataframe tbody tr th:only-of-type {\n",
       "        vertical-align: middle;\n",
       "    }\n",
       "\n",
       "    .dataframe tbody tr th {\n",
       "        vertical-align: top;\n",
       "    }\n",
       "\n",
       "    .dataframe thead tr th {\n",
       "        text-align: left;\n",
       "    }\n",
       "</style>\n",
       "<table border=\"1\" class=\"dataframe\">\n",
       "  <thead>\n",
       "    <tr>\n",
       "      <th></th>\n",
       "      <th colspan=\"2\" halign=\"left\">Titular</th>\n",
       "      <th>Partido</th>\n",
       "      <th>Presidente</th>\n",
       "      <th>Periodo</th>\n",
       "    </tr>\n",
       "    <tr>\n",
       "      <th></th>\n",
       "      <th>Imagen</th>\n",
       "      <th>Nombre</th>\n",
       "      <th>Partido</th>\n",
       "      <th>Presidente</th>\n",
       "      <th>Periodo</th>\n",
       "    </tr>\n",
       "  </thead>\n",
       "  <tbody>\n",
       "    <tr>\n",
       "      <th>0</th>\n",
       "      <td>NaN</td>\n",
       "      <td>Francisco Morales Bermúdez</td>\n",
       "      <td>s/p</td>\n",
       "      <td>Juan Velasco Alvarado</td>\n",
       "      <td>1 de marzo de 1969-2 de enero de 1974</td>\n",
       "    </tr>\n",
       "    <tr>\n",
       "      <th>1</th>\n",
       "      <td>NaN</td>\n",
       "      <td>Guillermo Marcó del Pont</td>\n",
       "      <td>s/p</td>\n",
       "      <td>Juan Velasco Alvarado</td>\n",
       "      <td>2 de enero de 1974-18 de julio de 1974</td>\n",
       "    </tr>\n",
       "    <tr>\n",
       "      <th>2</th>\n",
       "      <td>NaN</td>\n",
       "      <td>Amílcar Vargas Gavilano</td>\n",
       "      <td>s/p</td>\n",
       "      <td>Juan Velasco Alvarado</td>\n",
       "      <td>18 de julio de 1974-30 de agosto de 1975</td>\n",
       "    </tr>\n",
       "    <tr>\n",
       "      <th>3</th>\n",
       "      <td>NaN</td>\n",
       "      <td>Luis Barúa Castañeda</td>\n",
       "      <td>Independiente</td>\n",
       "      <td>Francisco Morales Bermúdez</td>\n",
       "      <td>2 de septiembre de 1975-16 de mayo de 1977</td>\n",
       "    </tr>\n",
       "    <tr>\n",
       "      <th>4</th>\n",
       "      <td>NaN</td>\n",
       "      <td>Walter Piazza Tanguis</td>\n",
       "      <td>Independiente</td>\n",
       "      <td>Francisco Morales Bermúdez</td>\n",
       "      <td>16 de mayo de 1977-6 de julio de 1977</td>\n",
       "    </tr>\n",
       "    <tr>\n",
       "      <th>5</th>\n",
       "      <td>NaN</td>\n",
       "      <td>Alcibíades Sáenz Barsallo</td>\n",
       "      <td>s/p</td>\n",
       "      <td>Francisco Morales Bermúdez</td>\n",
       "      <td>6 de julio de 1977-15 de mayo de 1978</td>\n",
       "    </tr>\n",
       "    <tr>\n",
       "      <th>6</th>\n",
       "      <td>NaN</td>\n",
       "      <td>Javier Silva Ruete</td>\n",
       "      <td>Independiente</td>\n",
       "      <td>Francisco Morales Bermúdez</td>\n",
       "      <td>15 de mayo de 1978-28 de julio de 1980</td>\n",
       "    </tr>\n",
       "    <tr>\n",
       "      <th>7</th>\n",
       "      <td>NaN</td>\n",
       "      <td>Manuel Ulloa Elías</td>\n",
       "      <td>Acción Popular</td>\n",
       "      <td>Fernando Belaúnde Terry</td>\n",
       "      <td>28 de julio de 1980-3 de enero de 1983</td>\n",
       "    </tr>\n",
       "    <tr>\n",
       "      <th>8</th>\n",
       "      <td>NaN</td>\n",
       "      <td>Carlos Rodríguez Pastor Mendoza</td>\n",
       "      <td>Independiente</td>\n",
       "      <td>Fernando Belaúnde Terry</td>\n",
       "      <td>3 de enero de 1983-21 de marzo de 1984</td>\n",
       "    </tr>\n",
       "    <tr>\n",
       "      <th>9</th>\n",
       "      <td>NaN</td>\n",
       "      <td>José Benavides Muñoz</td>\n",
       "      <td>Acción Popular</td>\n",
       "      <td>Fernando Belaúnde Terry</td>\n",
       "      <td>21 de marzo de 1984-29 de enero de 1985</td>\n",
       "    </tr>\n",
       "    <tr>\n",
       "      <th>10</th>\n",
       "      <td>NaN</td>\n",
       "      <td>Guillermo Garrido Lecca Álvarez Calderón</td>\n",
       "      <td>Independiente</td>\n",
       "      <td>Fernando Belaúnde Terry</td>\n",
       "      <td>29 de enero de 1985-28 de julio de 1985</td>\n",
       "    </tr>\n",
       "    <tr>\n",
       "      <th>11</th>\n",
       "      <td>NaN</td>\n",
       "      <td>Luis Alva Castro</td>\n",
       "      <td>Partido Aprista Peruano</td>\n",
       "      <td>Alan García (1.er gob.)</td>\n",
       "      <td>28 de julio de 1985-28 de julio de 1987</td>\n",
       "    </tr>\n",
       "    <tr>\n",
       "      <th>12</th>\n",
       "      <td>NaN</td>\n",
       "      <td>Gustavo Saberbein Chevalier</td>\n",
       "      <td>Independiente</td>\n",
       "      <td>Alan García (1.er gob.)</td>\n",
       "      <td>28 de julio de 1987-16 de mayo de 1988</td>\n",
       "    </tr>\n",
       "    <tr>\n",
       "      <th>13</th>\n",
       "      <td>NaN</td>\n",
       "      <td>César Robles Freyre</td>\n",
       "      <td>Partido Aprista Peruano</td>\n",
       "      <td>Alan García (1.er gob.)</td>\n",
       "      <td>16 de mayo de 1988-2 de septiembre de 1988</td>\n",
       "    </tr>\n",
       "    <tr>\n",
       "      <th>14</th>\n",
       "      <td>NaN</td>\n",
       "      <td>Abel Salinas Izaguirre</td>\n",
       "      <td>Partido Aprista Peruano</td>\n",
       "      <td>Alan García (1.er gob.)</td>\n",
       "      <td>2 de septiembre de 1988-28 de noviembre de 1988</td>\n",
       "    </tr>\n",
       "    <tr>\n",
       "      <th>15</th>\n",
       "      <td>NaN</td>\n",
       "      <td>Carlos Justo Rivas Dávila</td>\n",
       "      <td>Partido Aprista Peruano</td>\n",
       "      <td>Alan García (1.er gob.)</td>\n",
       "      <td>28 de noviembre de 1988-15 de mayo de 1989</td>\n",
       "    </tr>\n",
       "    <tr>\n",
       "      <th>16</th>\n",
       "      <td>NaN</td>\n",
       "      <td>César Vásquez Bazán</td>\n",
       "      <td>Independiente</td>\n",
       "      <td>Alan García (1.er gob.)</td>\n",
       "      <td>15 de mayo de 1989-28 de julio de 1990</td>\n",
       "    </tr>\n",
       "    <tr>\n",
       "      <th>17</th>\n",
       "      <td>NaN</td>\n",
       "      <td>Juan Carlos Hurtado Miller</td>\n",
       "      <td>Acción Popular</td>\n",
       "      <td>Alberto Fujimori</td>\n",
       "      <td>28 de julio de 1990-15 de febrero de 1991</td>\n",
       "    </tr>\n",
       "    <tr>\n",
       "      <th>18</th>\n",
       "      <td>NaN</td>\n",
       "      <td>Carlos Boloña Behr</td>\n",
       "      <td>Independiente</td>\n",
       "      <td>Alberto Fujimori</td>\n",
       "      <td>15 de febrero de 1991-8 de enero de 1993</td>\n",
       "    </tr>\n",
       "    <tr>\n",
       "      <th>19</th>\n",
       "      <td>NaN</td>\n",
       "      <td>Jorge Camet Dickmann</td>\n",
       "      <td>Independiente</td>\n",
       "      <td>Alberto Fujimori</td>\n",
       "      <td>9 de enero de 1993-6 de junio de 1998</td>\n",
       "    </tr>\n",
       "    <tr>\n",
       "      <th>20</th>\n",
       "      <td>NaN</td>\n",
       "      <td>Jorge Francisco Baca Campodónico</td>\n",
       "      <td>Independiente</td>\n",
       "      <td>Alberto Fujimori</td>\n",
       "      <td>6 de junio de 1998-4 de enero de 1999</td>\n",
       "    </tr>\n",
       "    <tr>\n",
       "      <th>21</th>\n",
       "      <td>NaN</td>\n",
       "      <td>Víctor Joy Way</td>\n",
       "      <td>Cambio 90</td>\n",
       "      <td>Alberto Fujimori</td>\n",
       "      <td>5 de enero de 1999-13 de octubre de 1999</td>\n",
       "    </tr>\n",
       "    <tr>\n",
       "      <th>22</th>\n",
       "      <td>NaN</td>\n",
       "      <td>Efraín Goldenberg Schreiber</td>\n",
       "      <td>Cambio 90</td>\n",
       "      <td>Alberto Fujimori</td>\n",
       "      <td>15 de octubre de 1999-28 de julio de 2000</td>\n",
       "    </tr>\n",
       "    <tr>\n",
       "      <th>23</th>\n",
       "      <td>NaN</td>\n",
       "      <td>Carlos Boloña Behr</td>\n",
       "      <td>Independiente</td>\n",
       "      <td>Alberto Fujimori</td>\n",
       "      <td>28 de julio de 2000-25 de noviembre de 2000</td>\n",
       "    </tr>\n",
       "    <tr>\n",
       "      <th>24</th>\n",
       "      <td>NaN</td>\n",
       "      <td>Javier Silva Ruete</td>\n",
       "      <td>Somos Perú</td>\n",
       "      <td>Valentín Paniagua (transitorio)</td>\n",
       "      <td>25 de noviembre de 2000-28 de julio de 2001</td>\n",
       "    </tr>\n",
       "    <tr>\n",
       "      <th>25</th>\n",
       "      <td>NaN</td>\n",
       "      <td>Pedro Pablo Kuczynski</td>\n",
       "      <td>Independiente</td>\n",
       "      <td>Alejandro Toledo</td>\n",
       "      <td>28 de julio de 2001-11 de julio de 2002</td>\n",
       "    </tr>\n",
       "    <tr>\n",
       "      <th>26</th>\n",
       "      <td>NaN</td>\n",
       "      <td>Javier Silva Ruete</td>\n",
       "      <td>Independiente</td>\n",
       "      <td>Alejandro Toledo</td>\n",
       "      <td>12 de julio de 2002-25 de julio de 2003</td>\n",
       "    </tr>\n",
       "    <tr>\n",
       "      <th>27</th>\n",
       "      <td>NaN</td>\n",
       "      <td>Jaime Quijandría Salmón</td>\n",
       "      <td>Independiente</td>\n",
       "      <td>Alejandro Toledo</td>\n",
       "      <td>25 de julio de 2003-16 de febrero de 2004</td>\n",
       "    </tr>\n",
       "    <tr>\n",
       "      <th>28</th>\n",
       "      <td>NaN</td>\n",
       "      <td>Pedro Pablo Kuczynski</td>\n",
       "      <td>Independiente</td>\n",
       "      <td>Alejandro Toledo</td>\n",
       "      <td>16 de febrero de 2004-16 de agosto de 2005</td>\n",
       "    </tr>\n",
       "    <tr>\n",
       "      <th>29</th>\n",
       "      <td>NaN</td>\n",
       "      <td>Fernando Zavala Lombardi</td>\n",
       "      <td>Independiente</td>\n",
       "      <td>Alejandro Toledo</td>\n",
       "      <td>16 de agosto de 2005-28 de julio de 2006</td>\n",
       "    </tr>\n",
       "    <tr>\n",
       "      <th>30</th>\n",
       "      <td>NaN</td>\n",
       "      <td>Luis Carranza Ugarte</td>\n",
       "      <td>Independiente</td>\n",
       "      <td>Alan García (2.º gob.)</td>\n",
       "      <td>28 de julio de 2006-14 de julio de 2008</td>\n",
       "    </tr>\n",
       "    <tr>\n",
       "      <th>31</th>\n",
       "      <td>NaN</td>\n",
       "      <td>Luis Valdivieso Montano</td>\n",
       "      <td>Independiente</td>\n",
       "      <td>Alan García (2.º gob.)</td>\n",
       "      <td>14 de julio de 2008-19 de enero de 2009</td>\n",
       "    </tr>\n",
       "    <tr>\n",
       "      <th>32</th>\n",
       "      <td>NaN</td>\n",
       "      <td>Luis Carranza Ugarte</td>\n",
       "      <td>Independiente</td>\n",
       "      <td>Alan García (2.º gob.)</td>\n",
       "      <td>19 de enero de 2009-22 de diciembre de 2009</td>\n",
       "    </tr>\n",
       "    <tr>\n",
       "      <th>33</th>\n",
       "      <td>NaN</td>\n",
       "      <td>Mercedes Aráoz Fernández</td>\n",
       "      <td>Partido Aprista Peruano</td>\n",
       "      <td>Alan García (2.º gob.)</td>\n",
       "      <td>22 de diciembre de 2009-12 de septiembre de 2010</td>\n",
       "    </tr>\n",
       "    <tr>\n",
       "      <th>34</th>\n",
       "      <td>NaN</td>\n",
       "      <td>Ismael Benavides Ferreyros</td>\n",
       "      <td>Independiente</td>\n",
       "      <td>Alan García (2.º gob.)</td>\n",
       "      <td>14 de septiembre de 2010-28 de julio de 2011</td>\n",
       "    </tr>\n",
       "    <tr>\n",
       "      <th>35</th>\n",
       "      <td>NaN</td>\n",
       "      <td>Luis Miguel Castilla Rubio</td>\n",
       "      <td>Independiente</td>\n",
       "      <td>Ollanta Humala</td>\n",
       "      <td>28 de julio de 2011-14 de septiembre de 2014</td>\n",
       "    </tr>\n",
       "    <tr>\n",
       "      <th>36</th>\n",
       "      <td>NaN</td>\n",
       "      <td>Alonso Arturo Segura Vasi</td>\n",
       "      <td>Independiente</td>\n",
       "      <td>Ollanta Humala</td>\n",
       "      <td>14 de septiembre de 2014-28 de julio de 2016</td>\n",
       "    </tr>\n",
       "    <tr>\n",
       "      <th>37</th>\n",
       "      <td>NaN</td>\n",
       "      <td>Alfredo Thorne Vetter</td>\n",
       "      <td>Peruanos Por el Kambio</td>\n",
       "      <td>Pedro Pablo Kuczynski</td>\n",
       "      <td>28 de julio de 2016-22 de junio de 2017</td>\n",
       "    </tr>\n",
       "    <tr>\n",
       "      <th>38</th>\n",
       "      <td>NaN</td>\n",
       "      <td>Fernando Martín Zavala Lombardi</td>\n",
       "      <td>Independiente</td>\n",
       "      <td>Pedro Pablo Kuczynski</td>\n",
       "      <td>23 de junio de 2017-17 de septiembre de 2017</td>\n",
       "    </tr>\n",
       "    <tr>\n",
       "      <th>39</th>\n",
       "      <td>NaN</td>\n",
       "      <td>Claudia María Cooper Fort</td>\n",
       "      <td>Independiente</td>\n",
       "      <td>Pedro Pablo Kuczynski</td>\n",
       "      <td>17 de septiembre de 2017-2 de abril de 2018</td>\n",
       "    </tr>\n",
       "    <tr>\n",
       "      <th>40</th>\n",
       "      <td>NaN</td>\n",
       "      <td>David Tuesta Cárdenas</td>\n",
       "      <td>Independiente</td>\n",
       "      <td>Martín Vizcarra</td>\n",
       "      <td>2 de abril de 2018-4 de junio de 2018</td>\n",
       "    </tr>\n",
       "    <tr>\n",
       "      <th>41</th>\n",
       "      <td>NaN</td>\n",
       "      <td>Carlos Oliva</td>\n",
       "      <td>Independiente</td>\n",
       "      <td>Martín Vizcarra</td>\n",
       "      <td>7 de junio de 2018-30 de septiembre de 2019</td>\n",
       "    </tr>\n",
       "    <tr>\n",
       "      <th>42</th>\n",
       "      <td>NaN</td>\n",
       "      <td>María Antonieta Alva</td>\n",
       "      <td>Independiente</td>\n",
       "      <td>Martín Vizcarra</td>\n",
       "      <td>3 de octubre de 2019-9 de noviembre de 2020</td>\n",
       "    </tr>\n",
       "    <tr>\n",
       "      <th>43</th>\n",
       "      <td>NaN</td>\n",
       "      <td>José Arista Arbildo</td>\n",
       "      <td>Alianza Regional Juntos por Amazonas</td>\n",
       "      <td>Manuel Merino</td>\n",
       "      <td>12 de noviembre de 2020-17 de noviembre de 2020</td>\n",
       "    </tr>\n",
       "    <tr>\n",
       "      <th>44</th>\n",
       "      <td>NaN</td>\n",
       "      <td>Waldo Mendoza Bellido</td>\n",
       "      <td>Independiente</td>\n",
       "      <td>Francisco Sagasti</td>\n",
       "      <td>18 de noviembre de 2020-29 de julio de 2021</td>\n",
       "    </tr>\n",
       "    <tr>\n",
       "      <th>45</th>\n",
       "      <td>NaN</td>\n",
       "      <td>Pedro Francke</td>\n",
       "      <td>Nuevo Perú</td>\n",
       "      <td>Pedro Castillo</td>\n",
       "      <td>30 de julio de 2021-1 de febrero de 2022</td>\n",
       "    </tr>\n",
       "    <tr>\n",
       "      <th>46</th>\n",
       "      <td>NaN</td>\n",
       "      <td>Óscar Graham</td>\n",
       "      <td>Independiente</td>\n",
       "      <td>Pedro Castillo</td>\n",
       "      <td>1 de febrero de 2022-5 de agosto de 2022</td>\n",
       "    </tr>\n",
       "    <tr>\n",
       "      <th>47</th>\n",
       "      <td>NaN</td>\n",
       "      <td>Kurt Burneo Farfán</td>\n",
       "      <td>Independiente</td>\n",
       "      <td>Pedro Castillo</td>\n",
       "      <td>5 de agosto de 2022-7 de diciembre de 2022</td>\n",
       "    </tr>\n",
       "    <tr>\n",
       "      <th>48</th>\n",
       "      <td>NaN</td>\n",
       "      <td>Alex Contreras Miranda</td>\n",
       "      <td>Independiente</td>\n",
       "      <td>Dina Boluarte</td>\n",
       "      <td>10 de diciembre de 2022-13 de febrero de 2024</td>\n",
       "    </tr>\n",
       "    <tr>\n",
       "      <th>49</th>\n",
       "      <td>NaN</td>\n",
       "      <td>José Arista Arbildo</td>\n",
       "      <td>Independiente</td>\n",
       "      <td>Dina Boluarte</td>\n",
       "      <td>13 de febrero de 2024-</td>\n",
       "    </tr>\n",
       "  </tbody>\n",
       "</table>\n",
       "</div>"
      ],
      "text/plain": [
       "   Titular                                            \\\n",
       "    Imagen                                    Nombre   \n",
       "0      NaN                Francisco Morales Bermúdez   \n",
       "1      NaN                  Guillermo Marcó del Pont   \n",
       "2      NaN                   Amílcar Vargas Gavilano   \n",
       "3      NaN                      Luis Barúa Castañeda   \n",
       "4      NaN                     Walter Piazza Tanguis   \n",
       "5      NaN                 Alcibíades Sáenz Barsallo   \n",
       "6      NaN                        Javier Silva Ruete   \n",
       "7      NaN                        Manuel Ulloa Elías   \n",
       "8      NaN           Carlos Rodríguez Pastor Mendoza   \n",
       "9      NaN                      José Benavides Muñoz   \n",
       "10     NaN  Guillermo Garrido Lecca Álvarez Calderón   \n",
       "11     NaN                          Luis Alva Castro   \n",
       "12     NaN               Gustavo Saberbein Chevalier   \n",
       "13     NaN                       César Robles Freyre   \n",
       "14     NaN                    Abel Salinas Izaguirre   \n",
       "15     NaN                 Carlos Justo Rivas Dávila   \n",
       "16     NaN                       César Vásquez Bazán   \n",
       "17     NaN                Juan Carlos Hurtado Miller   \n",
       "18     NaN                        Carlos Boloña Behr   \n",
       "19     NaN                      Jorge Camet Dickmann   \n",
       "20     NaN          Jorge Francisco Baca Campodónico   \n",
       "21     NaN                            Víctor Joy Way   \n",
       "22     NaN               Efraín Goldenberg Schreiber   \n",
       "23     NaN                        Carlos Boloña Behr   \n",
       "24     NaN                        Javier Silva Ruete   \n",
       "25     NaN                     Pedro Pablo Kuczynski   \n",
       "26     NaN                        Javier Silva Ruete   \n",
       "27     NaN                   Jaime Quijandría Salmón   \n",
       "28     NaN                     Pedro Pablo Kuczynski   \n",
       "29     NaN                  Fernando Zavala Lombardi   \n",
       "30     NaN                      Luis Carranza Ugarte   \n",
       "31     NaN                   Luis Valdivieso Montano   \n",
       "32     NaN                      Luis Carranza Ugarte   \n",
       "33     NaN                  Mercedes Aráoz Fernández   \n",
       "34     NaN                Ismael Benavides Ferreyros   \n",
       "35     NaN                Luis Miguel Castilla Rubio   \n",
       "36     NaN                 Alonso Arturo Segura Vasi   \n",
       "37     NaN                     Alfredo Thorne Vetter   \n",
       "38     NaN           Fernando Martín Zavala Lombardi   \n",
       "39     NaN                 Claudia María Cooper Fort   \n",
       "40     NaN                     David Tuesta Cárdenas   \n",
       "41     NaN                              Carlos Oliva   \n",
       "42     NaN                      María Antonieta Alva   \n",
       "43     NaN                       José Arista Arbildo   \n",
       "44     NaN                     Waldo Mendoza Bellido   \n",
       "45     NaN                             Pedro Francke   \n",
       "46     NaN                              Óscar Graham   \n",
       "47     NaN                        Kurt Burneo Farfán   \n",
       "48     NaN                    Alex Contreras Miranda   \n",
       "49     NaN                       José Arista Arbildo   \n",
       "\n",
       "                                 Partido                       Presidente  \\\n",
       "                                 Partido                       Presidente   \n",
       "0                                    s/p            Juan Velasco Alvarado   \n",
       "1                                    s/p            Juan Velasco Alvarado   \n",
       "2                                    s/p            Juan Velasco Alvarado   \n",
       "3                          Independiente       Francisco Morales Bermúdez   \n",
       "4                          Independiente       Francisco Morales Bermúdez   \n",
       "5                                    s/p       Francisco Morales Bermúdez   \n",
       "6                          Independiente       Francisco Morales Bermúdez   \n",
       "7                         Acción Popular          Fernando Belaúnde Terry   \n",
       "8                          Independiente          Fernando Belaúnde Terry   \n",
       "9                         Acción Popular          Fernando Belaúnde Terry   \n",
       "10                         Independiente          Fernando Belaúnde Terry   \n",
       "11               Partido Aprista Peruano          Alan García (1.er gob.)   \n",
       "12                         Independiente          Alan García (1.er gob.)   \n",
       "13               Partido Aprista Peruano          Alan García (1.er gob.)   \n",
       "14               Partido Aprista Peruano          Alan García (1.er gob.)   \n",
       "15               Partido Aprista Peruano          Alan García (1.er gob.)   \n",
       "16                         Independiente          Alan García (1.er gob.)   \n",
       "17                        Acción Popular                 Alberto Fujimori   \n",
       "18                         Independiente                 Alberto Fujimori   \n",
       "19                         Independiente                 Alberto Fujimori   \n",
       "20                         Independiente                 Alberto Fujimori   \n",
       "21                             Cambio 90                 Alberto Fujimori   \n",
       "22                             Cambio 90                 Alberto Fujimori   \n",
       "23                         Independiente                 Alberto Fujimori   \n",
       "24                            Somos Perú  Valentín Paniagua (transitorio)   \n",
       "25                         Independiente                 Alejandro Toledo   \n",
       "26                         Independiente                 Alejandro Toledo   \n",
       "27                         Independiente                 Alejandro Toledo   \n",
       "28                         Independiente                 Alejandro Toledo   \n",
       "29                         Independiente                 Alejandro Toledo   \n",
       "30                         Independiente           Alan García (2.º gob.)   \n",
       "31                         Independiente           Alan García (2.º gob.)   \n",
       "32                         Independiente           Alan García (2.º gob.)   \n",
       "33               Partido Aprista Peruano           Alan García (2.º gob.)   \n",
       "34                         Independiente           Alan García (2.º gob.)   \n",
       "35                         Independiente                   Ollanta Humala   \n",
       "36                         Independiente                   Ollanta Humala   \n",
       "37                Peruanos Por el Kambio            Pedro Pablo Kuczynski   \n",
       "38                         Independiente            Pedro Pablo Kuczynski   \n",
       "39                         Independiente            Pedro Pablo Kuczynski   \n",
       "40                         Independiente                  Martín Vizcarra   \n",
       "41                         Independiente                  Martín Vizcarra   \n",
       "42                         Independiente                  Martín Vizcarra   \n",
       "43  Alianza Regional Juntos por Amazonas                    Manuel Merino   \n",
       "44                         Independiente                Francisco Sagasti   \n",
       "45                            Nuevo Perú                   Pedro Castillo   \n",
       "46                         Independiente                   Pedro Castillo   \n",
       "47                         Independiente                   Pedro Castillo   \n",
       "48                         Independiente                    Dina Boluarte   \n",
       "49                         Independiente                    Dina Boluarte   \n",
       "\n",
       "                                             Periodo  \n",
       "                                             Periodo  \n",
       "0              1 de marzo de 1969-2 de enero de 1974  \n",
       "1             2 de enero de 1974-18 de julio de 1974  \n",
       "2           18 de julio de 1974-30 de agosto de 1975  \n",
       "3         2 de septiembre de 1975-16 de mayo de 1977  \n",
       "4              16 de mayo de 1977-6 de julio de 1977  \n",
       "5              6 de julio de 1977-15 de mayo de 1978  \n",
       "6             15 de mayo de 1978-28 de julio de 1980  \n",
       "7             28 de julio de 1980-3 de enero de 1983  \n",
       "8             3 de enero de 1983-21 de marzo de 1984  \n",
       "9            21 de marzo de 1984-29 de enero de 1985  \n",
       "10           29 de enero de 1985-28 de julio de 1985  \n",
       "11           28 de julio de 1985-28 de julio de 1987  \n",
       "12            28 de julio de 1987-16 de mayo de 1988  \n",
       "13        16 de mayo de 1988-2 de septiembre de 1988  \n",
       "14   2 de septiembre de 1988-28 de noviembre de 1988  \n",
       "15        28 de noviembre de 1988-15 de mayo de 1989  \n",
       "16            15 de mayo de 1989-28 de julio de 1990  \n",
       "17         28 de julio de 1990-15 de febrero de 1991  \n",
       "18          15 de febrero de 1991-8 de enero de 1993  \n",
       "19             9 de enero de 1993-6 de junio de 1998  \n",
       "20             6 de junio de 1998-4 de enero de 1999  \n",
       "21          5 de enero de 1999-13 de octubre de 1999  \n",
       "22         15 de octubre de 1999-28 de julio de 2000  \n",
       "23       28 de julio de 2000-25 de noviembre de 2000  \n",
       "24       25 de noviembre de 2000-28 de julio de 2001  \n",
       "25           28 de julio de 2001-11 de julio de 2002  \n",
       "26           12 de julio de 2002-25 de julio de 2003  \n",
       "27         25 de julio de 2003-16 de febrero de 2004  \n",
       "28        16 de febrero de 2004-16 de agosto de 2005  \n",
       "29          16 de agosto de 2005-28 de julio de 2006  \n",
       "30           28 de julio de 2006-14 de julio de 2008  \n",
       "31           14 de julio de 2008-19 de enero de 2009  \n",
       "32       19 de enero de 2009-22 de diciembre de 2009  \n",
       "33  22 de diciembre de 2009-12 de septiembre de 2010  \n",
       "34      14 de septiembre de 2010-28 de julio de 2011  \n",
       "35      28 de julio de 2011-14 de septiembre de 2014  \n",
       "36      14 de septiembre de 2014-28 de julio de 2016  \n",
       "37           28 de julio de 2016-22 de junio de 2017  \n",
       "38      23 de junio de 2017-17 de septiembre de 2017  \n",
       "39       17 de septiembre de 2017-2 de abril de 2018  \n",
       "40             2 de abril de 2018-4 de junio de 2018  \n",
       "41       7 de junio de 2018-30 de septiembre de 2019  \n",
       "42       3 de octubre de 2019-9 de noviembre de 2020  \n",
       "43   12 de noviembre de 2020-17 de noviembre de 2020  \n",
       "44       18 de noviembre de 2020-29 de julio de 2021  \n",
       "45          30 de julio de 2021-1 de febrero de 2022  \n",
       "46          1 de febrero de 2022-5 de agosto de 2022  \n",
       "47        5 de agosto de 2022-7 de diciembre de 2022  \n",
       "48     10 de diciembre de 2022-13 de febrero de 2024  \n",
       "49                            13 de febrero de 2024-  "
      ]
     },
     "execution_count": 19,
     "metadata": {},
     "output_type": "execute_result"
    }
   ],
   "source": [
    "df = MEF[1] \n",
    "df"
   ]
  },
  {
   "cell_type": "code",
   "execution_count": null,
   "metadata": {},
   "outputs": [],
   "source": [
    "import pandas as pd\n",
    "\n",
    "columna = df[\"Periodo\"]\n",
    "columna_clean = columna.replace(\" a \", \"-\")[\"Periodo\"].str.split(\"-\")\n",
    "columna_clean"
   ]
  },
  {
   "cell_type": "code",
   "execution_count": 30,
   "metadata": {},
   "outputs": [
    {
     "data": {
      "text/html": [
       "<div>\n",
       "<style scoped>\n",
       "    .dataframe tbody tr th:only-of-type {\n",
       "        vertical-align: middle;\n",
       "    }\n",
       "\n",
       "    .dataframe tbody tr th {\n",
       "        vertical-align: top;\n",
       "    }\n",
       "\n",
       "    .dataframe thead tr th {\n",
       "        text-align: left;\n",
       "    }\n",
       "</style>\n",
       "<table border=\"1\" class=\"dataframe\">\n",
       "  <thead>\n",
       "    <tr>\n",
       "      <th></th>\n",
       "      <th colspan=\"2\" halign=\"left\">Titular</th>\n",
       "      <th>Partido</th>\n",
       "      <th>Presidente</th>\n",
       "      <th>Periodo</th>\n",
       "      <th>Inicio</th>\n",
       "      <th>Fin</th>\n",
       "    </tr>\n",
       "    <tr>\n",
       "      <th></th>\n",
       "      <th>Imagen</th>\n",
       "      <th>Nombre</th>\n",
       "      <th>Partido</th>\n",
       "      <th>Presidente</th>\n",
       "      <th>Periodo</th>\n",
       "      <th></th>\n",
       "      <th></th>\n",
       "    </tr>\n",
       "  </thead>\n",
       "  <tbody>\n",
       "    <tr>\n",
       "      <th>0</th>\n",
       "      <td>NaN</td>\n",
       "      <td>Francisco Morales Bermúdez</td>\n",
       "      <td>s/p</td>\n",
       "      <td>Juan Velasco Alvarado</td>\n",
       "      <td>1 de marzo de 1969-2 de enero de 1974</td>\n",
       "      <td>1 de marzo de 1969</td>\n",
       "      <td>2 de enero de 1974</td>\n",
       "    </tr>\n",
       "    <tr>\n",
       "      <th>1</th>\n",
       "      <td>NaN</td>\n",
       "      <td>Guillermo Marcó del Pont</td>\n",
       "      <td>s/p</td>\n",
       "      <td>Juan Velasco Alvarado</td>\n",
       "      <td>2 de enero de 1974-18 de julio de 1974</td>\n",
       "      <td>2 de enero de 1974</td>\n",
       "      <td>18 de julio de 1974</td>\n",
       "    </tr>\n",
       "    <tr>\n",
       "      <th>2</th>\n",
       "      <td>NaN</td>\n",
       "      <td>Amílcar Vargas Gavilano</td>\n",
       "      <td>s/p</td>\n",
       "      <td>Juan Velasco Alvarado</td>\n",
       "      <td>18 de julio de 1974-30 de agosto de 1975</td>\n",
       "      <td>18 de julio de 1974</td>\n",
       "      <td>30 de agosto de 1975</td>\n",
       "    </tr>\n",
       "    <tr>\n",
       "      <th>3</th>\n",
       "      <td>NaN</td>\n",
       "      <td>Luis Barúa Castañeda</td>\n",
       "      <td>Independiente</td>\n",
       "      <td>Francisco Morales Bermúdez</td>\n",
       "      <td>2 de septiembre de 1975-16 de mayo de 1977</td>\n",
       "      <td>2 de septiembre de 1975</td>\n",
       "      <td>16 de mayo de 1977</td>\n",
       "    </tr>\n",
       "    <tr>\n",
       "      <th>4</th>\n",
       "      <td>NaN</td>\n",
       "      <td>Walter Piazza Tanguis</td>\n",
       "      <td>Independiente</td>\n",
       "      <td>Francisco Morales Bermúdez</td>\n",
       "      <td>16 de mayo de 1977-6 de julio de 1977</td>\n",
       "      <td>16 de mayo de 1977</td>\n",
       "      <td>6 de julio de 1977</td>\n",
       "    </tr>\n",
       "  </tbody>\n",
       "</table>\n",
       "</div>"
      ],
      "text/plain": [
       "  Titular                                    Partido  \\\n",
       "   Imagen                      Nombre        Partido   \n",
       "0     NaN  Francisco Morales Bermúdez            s/p   \n",
       "1     NaN    Guillermo Marcó del Pont            s/p   \n",
       "2     NaN     Amílcar Vargas Gavilano            s/p   \n",
       "3     NaN        Luis Barúa Castañeda  Independiente   \n",
       "4     NaN       Walter Piazza Tanguis  Independiente   \n",
       "\n",
       "                   Presidente                                     Periodo  \\\n",
       "                   Presidente                                     Periodo   \n",
       "0       Juan Velasco Alvarado       1 de marzo de 1969-2 de enero de 1974   \n",
       "1       Juan Velasco Alvarado      2 de enero de 1974-18 de julio de 1974   \n",
       "2       Juan Velasco Alvarado    18 de julio de 1974-30 de agosto de 1975   \n",
       "3  Francisco Morales Bermúdez  2 de septiembre de 1975-16 de mayo de 1977   \n",
       "4  Francisco Morales Bermúdez       16 de mayo de 1977-6 de julio de 1977   \n",
       "\n",
       "                    Inicio                   Fin  \n",
       "                                                  \n",
       "0       1 de marzo de 1969    2 de enero de 1974  \n",
       "1       2 de enero de 1974   18 de julio de 1974  \n",
       "2      18 de julio de 1974  30 de agosto de 1975  \n",
       "3  2 de septiembre de 1975    16 de mayo de 1977  \n",
       "4       16 de mayo de 1977    6 de julio de 1977  "
      ]
     },
     "execution_count": 30,
     "metadata": {},
     "output_type": "execute_result"
    }
   ],
   "source": [
    "df[['Inicio', 'Fin']] = columna_clean.apply(pd.Series)\n",
    "df.head(5)"
   ]
  },
  {
   "cell_type": "code",
   "execution_count": 31,
   "metadata": {},
   "outputs": [
    {
     "data": {
      "text/plain": [
       "'es_ES.UTF-8'"
      ]
     },
     "execution_count": 31,
     "metadata": {},
     "output_type": "execute_result"
    }
   ],
   "source": [
    "import locale\n",
    "# Configurar el locale en español \n",
    "locale.setlocale(locale.LC_TIME, 'es_ES.UTF-8')"
   ]
  },
  {
   "cell_type": "code",
   "execution_count": 32,
   "metadata": {},
   "outputs": [
    {
     "data": {
      "text/html": [
       "<div>\n",
       "<style scoped>\n",
       "    .dataframe tbody tr th:only-of-type {\n",
       "        vertical-align: middle;\n",
       "    }\n",
       "\n",
       "    .dataframe tbody tr th {\n",
       "        vertical-align: top;\n",
       "    }\n",
       "\n",
       "    .dataframe thead tr th {\n",
       "        text-align: left;\n",
       "    }\n",
       "</style>\n",
       "<table border=\"1\" class=\"dataframe\">\n",
       "  <thead>\n",
       "    <tr>\n",
       "      <th></th>\n",
       "      <th colspan=\"2\" halign=\"left\">Titular</th>\n",
       "      <th>Partido</th>\n",
       "      <th>Presidente</th>\n",
       "      <th>Periodo</th>\n",
       "      <th>Inicio</th>\n",
       "      <th>Fin</th>\n",
       "    </tr>\n",
       "    <tr>\n",
       "      <th></th>\n",
       "      <th>Imagen</th>\n",
       "      <th>Nombre</th>\n",
       "      <th>Partido</th>\n",
       "      <th>Presidente</th>\n",
       "      <th>Periodo</th>\n",
       "      <th></th>\n",
       "      <th></th>\n",
       "    </tr>\n",
       "  </thead>\n",
       "  <tbody>\n",
       "    <tr>\n",
       "      <th>0</th>\n",
       "      <td>NaN</td>\n",
       "      <td>Francisco Morales Bermúdez</td>\n",
       "      <td>s/p</td>\n",
       "      <td>Juan Velasco Alvarado</td>\n",
       "      <td>1 de marzo de 1969-2 de enero de 1974</td>\n",
       "      <td>1969-03-01</td>\n",
       "      <td>1974-01-02</td>\n",
       "    </tr>\n",
       "    <tr>\n",
       "      <th>1</th>\n",
       "      <td>NaN</td>\n",
       "      <td>Guillermo Marcó del Pont</td>\n",
       "      <td>s/p</td>\n",
       "      <td>Juan Velasco Alvarado</td>\n",
       "      <td>2 de enero de 1974-18 de julio de 1974</td>\n",
       "      <td>1974-01-02</td>\n",
       "      <td>1974-07-18</td>\n",
       "    </tr>\n",
       "    <tr>\n",
       "      <th>2</th>\n",
       "      <td>NaN</td>\n",
       "      <td>Amílcar Vargas Gavilano</td>\n",
       "      <td>s/p</td>\n",
       "      <td>Juan Velasco Alvarado</td>\n",
       "      <td>18 de julio de 1974-30 de agosto de 1975</td>\n",
       "      <td>1974-07-18</td>\n",
       "      <td>1975-08-30</td>\n",
       "    </tr>\n",
       "    <tr>\n",
       "      <th>3</th>\n",
       "      <td>NaN</td>\n",
       "      <td>Luis Barúa Castañeda</td>\n",
       "      <td>Independiente</td>\n",
       "      <td>Francisco Morales Bermúdez</td>\n",
       "      <td>2 de septiembre de 1975-16 de mayo de 1977</td>\n",
       "      <td>1975-09-02</td>\n",
       "      <td>1977-05-16</td>\n",
       "    </tr>\n",
       "    <tr>\n",
       "      <th>4</th>\n",
       "      <td>NaN</td>\n",
       "      <td>Walter Piazza Tanguis</td>\n",
       "      <td>Independiente</td>\n",
       "      <td>Francisco Morales Bermúdez</td>\n",
       "      <td>16 de mayo de 1977-6 de julio de 1977</td>\n",
       "      <td>1977-05-16</td>\n",
       "      <td>1977-07-06</td>\n",
       "    </tr>\n",
       "  </tbody>\n",
       "</table>\n",
       "</div>"
      ],
      "text/plain": [
       "  Titular                                    Partido  \\\n",
       "   Imagen                      Nombre        Partido   \n",
       "0     NaN  Francisco Morales Bermúdez            s/p   \n",
       "1     NaN    Guillermo Marcó del Pont            s/p   \n",
       "2     NaN     Amílcar Vargas Gavilano            s/p   \n",
       "3     NaN        Luis Barúa Castañeda  Independiente   \n",
       "4     NaN       Walter Piazza Tanguis  Independiente   \n",
       "\n",
       "                   Presidente                                     Periodo  \\\n",
       "                   Presidente                                     Periodo   \n",
       "0       Juan Velasco Alvarado       1 de marzo de 1969-2 de enero de 1974   \n",
       "1       Juan Velasco Alvarado      2 de enero de 1974-18 de julio de 1974   \n",
       "2       Juan Velasco Alvarado    18 de julio de 1974-30 de agosto de 1975   \n",
       "3  Francisco Morales Bermúdez  2 de septiembre de 1975-16 de mayo de 1977   \n",
       "4  Francisco Morales Bermúdez       16 de mayo de 1977-6 de julio de 1977   \n",
       "\n",
       "      Inicio        Fin  \n",
       "                         \n",
       "0 1969-03-01 1974-01-02  \n",
       "1 1974-01-02 1974-07-18  \n",
       "2 1974-07-18 1975-08-30  \n",
       "3 1975-09-02 1977-05-16  \n",
       "4 1977-05-16 1977-07-06  "
      ]
     },
     "execution_count": 32,
     "metadata": {},
     "output_type": "execute_result"
    }
   ],
   "source": [
    "# Convertir la columna 'Inicio'\n",
    "df['Inicio'] = pd.to_datetime(df['Inicio'], format='%d de %B de %Y', errors='coerce', dayfirst=True)\n",
    "# Convertir la columna 'Fin'\n",
    "df['Fin'] = pd.to_datetime(df['Fin'], format='%d de %B de %Y', errors='coerce', dayfirst=True)\n",
    "df.head(5)"
   ]
  },
  {
   "cell_type": "code",
   "execution_count": 36,
   "metadata": {},
   "outputs": [
    {
     "data": {
      "text/plain": [
       "0    Francisco Morales Bermúdez\n",
       "1      Guillermo Marcó del Pont\n",
       "2       Amílcar Vargas Gavilano\n",
       "3          Luis Barúa Castañeda\n",
       "4         Walter Piazza Tanguis\n",
       "Name: Nombre, dtype: object"
      ]
     },
     "execution_count": 36,
     "metadata": {},
     "output_type": "execute_result"
    }
   ],
   "source": [
    "df[\"Titular\"][\"Nombre\"].head(5)"
   ]
  },
  {
   "cell_type": "code",
   "execution_count": 37,
   "metadata": {},
   "outputs": [
    {
     "data": {
      "text/html": [
       "<div>\n",
       "<style scoped>\n",
       "    .dataframe tbody tr th:only-of-type {\n",
       "        vertical-align: middle;\n",
       "    }\n",
       "\n",
       "    .dataframe tbody tr th {\n",
       "        vertical-align: top;\n",
       "    }\n",
       "\n",
       "    .dataframe thead tr th {\n",
       "        text-align: left;\n",
       "    }\n",
       "</style>\n",
       "<table border=\"1\" class=\"dataframe\">\n",
       "  <thead>\n",
       "    <tr>\n",
       "      <th></th>\n",
       "      <th colspan=\"2\" halign=\"left\">Titular</th>\n",
       "      <th>Partido</th>\n",
       "      <th>Presidente</th>\n",
       "      <th>Periodo</th>\n",
       "      <th>Inicio</th>\n",
       "      <th>Fin</th>\n",
       "      <th>Duración</th>\n",
       "      <th>Identificador</th>\n",
       "    </tr>\n",
       "    <tr>\n",
       "      <th></th>\n",
       "      <th>Imagen</th>\n",
       "      <th>Nombre</th>\n",
       "      <th>Partido</th>\n",
       "      <th>Presidente</th>\n",
       "      <th>Periodo</th>\n",
       "      <th></th>\n",
       "      <th></th>\n",
       "      <th></th>\n",
       "      <th></th>\n",
       "    </tr>\n",
       "  </thead>\n",
       "  <tbody>\n",
       "    <tr>\n",
       "      <th>0</th>\n",
       "      <td>NaN</td>\n",
       "      <td>Francisco Morales Bermúdez</td>\n",
       "      <td>s/p</td>\n",
       "      <td>Juan Velasco Alvarado</td>\n",
       "      <td>1 de marzo de 1969-2 de enero de 1974</td>\n",
       "      <td>1969-03-01</td>\n",
       "      <td>1974-01-02</td>\n",
       "      <td>1768.0</td>\n",
       "      <td>Francisco Morales Bermúdez (1969)</td>\n",
       "    </tr>\n",
       "    <tr>\n",
       "      <th>1</th>\n",
       "      <td>NaN</td>\n",
       "      <td>Guillermo Marcó del Pont</td>\n",
       "      <td>s/p</td>\n",
       "      <td>Juan Velasco Alvarado</td>\n",
       "      <td>2 de enero de 1974-18 de julio de 1974</td>\n",
       "      <td>1974-01-02</td>\n",
       "      <td>1974-07-18</td>\n",
       "      <td>197.0</td>\n",
       "      <td>Guillermo Marcó del Pont (1974)</td>\n",
       "    </tr>\n",
       "    <tr>\n",
       "      <th>2</th>\n",
       "      <td>NaN</td>\n",
       "      <td>Amílcar Vargas Gavilano</td>\n",
       "      <td>s/p</td>\n",
       "      <td>Juan Velasco Alvarado</td>\n",
       "      <td>18 de julio de 1974-30 de agosto de 1975</td>\n",
       "      <td>1974-07-18</td>\n",
       "      <td>1975-08-30</td>\n",
       "      <td>408.0</td>\n",
       "      <td>Amílcar Vargas Gavilano (1974)</td>\n",
       "    </tr>\n",
       "    <tr>\n",
       "      <th>3</th>\n",
       "      <td>NaN</td>\n",
       "      <td>Luis Barúa Castañeda</td>\n",
       "      <td>Independiente</td>\n",
       "      <td>Francisco Morales Bermúdez</td>\n",
       "      <td>2 de septiembre de 1975-16 de mayo de 1977</td>\n",
       "      <td>1975-09-02</td>\n",
       "      <td>1977-05-16</td>\n",
       "      <td>622.0</td>\n",
       "      <td>Luis Barúa Castañeda (1975)</td>\n",
       "    </tr>\n",
       "    <tr>\n",
       "      <th>4</th>\n",
       "      <td>NaN</td>\n",
       "      <td>Walter Piazza Tanguis</td>\n",
       "      <td>Independiente</td>\n",
       "      <td>Francisco Morales Bermúdez</td>\n",
       "      <td>16 de mayo de 1977-6 de julio de 1977</td>\n",
       "      <td>1977-05-16</td>\n",
       "      <td>1977-07-06</td>\n",
       "      <td>51.0</td>\n",
       "      <td>Walter Piazza Tanguis (1977)</td>\n",
       "    </tr>\n",
       "  </tbody>\n",
       "</table>\n",
       "</div>"
      ],
      "text/plain": [
       "  Titular                                    Partido  \\\n",
       "   Imagen                      Nombre        Partido   \n",
       "0     NaN  Francisco Morales Bermúdez            s/p   \n",
       "1     NaN    Guillermo Marcó del Pont            s/p   \n",
       "2     NaN     Amílcar Vargas Gavilano            s/p   \n",
       "3     NaN        Luis Barúa Castañeda  Independiente   \n",
       "4     NaN       Walter Piazza Tanguis  Independiente   \n",
       "\n",
       "                   Presidente                                     Periodo  \\\n",
       "                   Presidente                                     Periodo   \n",
       "0       Juan Velasco Alvarado       1 de marzo de 1969-2 de enero de 1974   \n",
       "1       Juan Velasco Alvarado      2 de enero de 1974-18 de julio de 1974   \n",
       "2       Juan Velasco Alvarado    18 de julio de 1974-30 de agosto de 1975   \n",
       "3  Francisco Morales Bermúdez  2 de septiembre de 1975-16 de mayo de 1977   \n",
       "4  Francisco Morales Bermúdez       16 de mayo de 1977-6 de julio de 1977   \n",
       "\n",
       "      Inicio        Fin Duración                      Identificador  \n",
       "                                                                     \n",
       "0 1969-03-01 1974-01-02   1768.0  Francisco Morales Bermúdez (1969)  \n",
       "1 1974-01-02 1974-07-18    197.0    Guillermo Marcó del Pont (1974)  \n",
       "2 1974-07-18 1975-08-30    408.0     Amílcar Vargas Gavilano (1974)  \n",
       "3 1975-09-02 1977-05-16    622.0        Luis Barúa Castañeda (1975)  \n",
       "4 1977-05-16 1977-07-06     51.0       Walter Piazza Tanguis (1977)  "
      ]
     },
     "execution_count": 37,
     "metadata": {},
     "output_type": "execute_result"
    }
   ],
   "source": [
    "# Calcular la duración para cada ministro en días\n",
    "df['Duración'] = (df['Fin'] - df['Inicio']).dt.days\n",
    "df['Identificador'] = df[\"Titular\"][\"Nombre\"] + \" (\" + df['Inicio'].dt.year.astype(str) + \")\"\n",
    "\n",
    "df.head(5)"
   ]
  },
  {
   "cell_type": "code",
   "execution_count": 40,
   "metadata": {},
   "outputs": [
    {
     "data": {
      "text/html": [
       "<div>\n",
       "<style scoped>\n",
       "    .dataframe tbody tr th:only-of-type {\n",
       "        vertical-align: middle;\n",
       "    }\n",
       "\n",
       "    .dataframe tbody tr th {\n",
       "        vertical-align: top;\n",
       "    }\n",
       "\n",
       "    .dataframe thead tr th {\n",
       "        text-align: left;\n",
       "    }\n",
       "</style>\n",
       "<table border=\"1\" class=\"dataframe\">\n",
       "  <thead>\n",
       "    <tr>\n",
       "      <th></th>\n",
       "      <th colspan=\"2\" halign=\"left\">Titular</th>\n",
       "      <th>Partido</th>\n",
       "      <th>Presidente</th>\n",
       "      <th>Periodo</th>\n",
       "      <th>Inicio</th>\n",
       "      <th>Fin</th>\n",
       "      <th>Duración</th>\n",
       "      <th>Identificador</th>\n",
       "    </tr>\n",
       "    <tr>\n",
       "      <th></th>\n",
       "      <th>Imagen</th>\n",
       "      <th>Nombre</th>\n",
       "      <th>Partido</th>\n",
       "      <th>Presidente</th>\n",
       "      <th>Periodo</th>\n",
       "      <th></th>\n",
       "      <th></th>\n",
       "      <th></th>\n",
       "      <th></th>\n",
       "    </tr>\n",
       "  </thead>\n",
       "  <tbody>\n",
       "    <tr>\n",
       "      <th>45</th>\n",
       "      <td>NaN</td>\n",
       "      <td>Pedro Francke</td>\n",
       "      <td>Nuevo Perú</td>\n",
       "      <td>Pedro Castillo</td>\n",
       "      <td>30 de julio de 2021-1 de febrero de 2022</td>\n",
       "      <td>2021-07-30</td>\n",
       "      <td>2022-02-01</td>\n",
       "      <td>186.0</td>\n",
       "      <td>Pedro Francke (2021)</td>\n",
       "    </tr>\n",
       "    <tr>\n",
       "      <th>46</th>\n",
       "      <td>NaN</td>\n",
       "      <td>Óscar Graham</td>\n",
       "      <td>Independiente</td>\n",
       "      <td>Pedro Castillo</td>\n",
       "      <td>1 de febrero de 2022-5 de agosto de 2022</td>\n",
       "      <td>2022-02-01</td>\n",
       "      <td>2022-08-05</td>\n",
       "      <td>185.0</td>\n",
       "      <td>Óscar Graham (2022)</td>\n",
       "    </tr>\n",
       "    <tr>\n",
       "      <th>47</th>\n",
       "      <td>NaN</td>\n",
       "      <td>Kurt Burneo Farfán</td>\n",
       "      <td>Independiente</td>\n",
       "      <td>Pedro Castillo</td>\n",
       "      <td>5 de agosto de 2022-7 de diciembre de 2022</td>\n",
       "      <td>2022-08-05</td>\n",
       "      <td>2022-12-07</td>\n",
       "      <td>124.0</td>\n",
       "      <td>Kurt Burneo Farfán (2022)</td>\n",
       "    </tr>\n",
       "    <tr>\n",
       "      <th>48</th>\n",
       "      <td>NaN</td>\n",
       "      <td>Alex Contreras Miranda</td>\n",
       "      <td>Independiente</td>\n",
       "      <td>Dina Boluarte</td>\n",
       "      <td>10 de diciembre de 2022-13 de febrero de 2024</td>\n",
       "      <td>2022-12-10</td>\n",
       "      <td>2024-02-13</td>\n",
       "      <td>430.0</td>\n",
       "      <td>Alex Contreras Miranda (2022)</td>\n",
       "    </tr>\n",
       "    <tr>\n",
       "      <th>49</th>\n",
       "      <td>NaN</td>\n",
       "      <td>José Arista Arbildo</td>\n",
       "      <td>Independiente</td>\n",
       "      <td>Dina Boluarte</td>\n",
       "      <td>13 de febrero de 2024-</td>\n",
       "      <td>2024-02-13</td>\n",
       "      <td>NaT</td>\n",
       "      <td>NaN</td>\n",
       "      <td>José Arista Arbildo (2024)</td>\n",
       "    </tr>\n",
       "  </tbody>\n",
       "</table>\n",
       "</div>"
      ],
      "text/plain": [
       "   Titular                                Partido      Presidente  \\\n",
       "    Imagen                  Nombre        Partido      Presidente   \n",
       "45     NaN           Pedro Francke     Nuevo Perú  Pedro Castillo   \n",
       "46     NaN            Óscar Graham  Independiente  Pedro Castillo   \n",
       "47     NaN      Kurt Burneo Farfán  Independiente  Pedro Castillo   \n",
       "48     NaN  Alex Contreras Miranda  Independiente   Dina Boluarte   \n",
       "49     NaN     José Arista Arbildo  Independiente   Dina Boluarte   \n",
       "\n",
       "                                          Periodo     Inicio        Fin  \\\n",
       "                                          Periodo                         \n",
       "45       30 de julio de 2021-1 de febrero de 2022 2021-07-30 2022-02-01   \n",
       "46       1 de febrero de 2022-5 de agosto de 2022 2022-02-01 2022-08-05   \n",
       "47     5 de agosto de 2022-7 de diciembre de 2022 2022-08-05 2022-12-07   \n",
       "48  10 de diciembre de 2022-13 de febrero de 2024 2022-12-10 2024-02-13   \n",
       "49                         13 de febrero de 2024- 2024-02-13        NaT   \n",
       "\n",
       "   Duración                  Identificador  \n",
       "                                            \n",
       "45    186.0           Pedro Francke (2021)  \n",
       "46    185.0            Óscar Graham (2022)  \n",
       "47    124.0      Kurt Burneo Farfán (2022)  \n",
       "48    430.0  Alex Contreras Miranda (2022)  \n",
       "49      NaN     José Arista Arbildo (2024)  "
      ]
     },
     "execution_count": 40,
     "metadata": {},
     "output_type": "execute_result"
    }
   ],
   "source": [
    "df.tail(5)"
   ]
  },
  {
   "cell_type": "code",
   "execution_count": 38,
   "metadata": {},
   "outputs": [],
   "source": [
    "import plotly.graph_objects as go"
   ]
  },
  {
   "cell_type": "code",
   "execution_count": 39,
   "metadata": {},
   "outputs": [
    {
     "data": {
      "application/vnd.plotly.v1+json": {
       "config": {
        "plotlyServerURL": "https://plot.ly"
       },
       "data": [
        {
         "connector": {
          "line": {
           "color": "rgb(63, 63, 63)"
          }
         },
         "measure": [
          "relative",
          "relative",
          "relative",
          "relative",
          "relative",
          "relative",
          "relative",
          "relative",
          "relative",
          "relative",
          "relative",
          "relative",
          "relative",
          "relative",
          "relative",
          "relative",
          "relative",
          "relative",
          "relative",
          "relative",
          "relative",
          "relative",
          "relative",
          "relative",
          "relative",
          "relative",
          "relative",
          "relative",
          "relative",
          "relative",
          "relative",
          "relative",
          "relative",
          "relative",
          "relative",
          "relative",
          "relative",
          "relative",
          "relative",
          "relative",
          "relative",
          "relative",
          "relative",
          "relative",
          "relative",
          "relative",
          "relative",
          "relative",
          "relative",
          "relative"
         ],
         "name": "Días",
         "orientation": "h",
         "text": [
          "1768.0 días",
          "197.0 días",
          "408.0 días",
          "622.0 días",
          "51.0 días",
          "313.0 días",
          "805.0 días",
          "889.0 días",
          "443.0 días",
          "314.0 días",
          "180.0 días",
          "730.0 días",
          "293.0 días",
          "109.0 días",
          "87.0 días",
          "168.0 días",
          "439.0 días",
          "202.0 días",
          "693.0 días",
          "1974.0 días",
          "212.0 días",
          "281.0 días",
          "287.0 días",
          "120.0 días",
          "245.0 días",
          "348.0 días",
          "378.0 días",
          "206.0 días",
          "547.0 días",
          "346.0 días",
          "717.0 días",
          "189.0 días",
          "337.0 días",
          "264.0 días",
          "317.0 días",
          "1144.0 días",
          "683.0 días",
          "329.0 días",
          "86.0 días",
          "197.0 días",
          "63.0 días",
          "480.0 días",
          "403.0 días",
          "5.0 días",
          "253.0 días",
          "186.0 días",
          "185.0 días",
          "124.0 días",
          "430.0 días",
          "nan días"
         ],
         "textposition": "outside",
         "type": "waterfall",
         "x": [
          1768,
          197,
          408,
          622,
          51,
          313,
          805,
          889,
          443,
          314,
          180,
          730,
          293,
          109,
          87,
          168,
          439,
          202,
          693,
          1974,
          212,
          281,
          287,
          120,
          245,
          348,
          378,
          206,
          547,
          346,
          717,
          189,
          337,
          264,
          317,
          1144,
          683,
          329,
          86,
          197,
          63,
          480,
          403,
          5,
          253,
          186,
          185,
          124,
          430,
          null
         ],
         "y": [
          "Francisco Morales Bermúdez (1969)",
          "Guillermo Marcó del Pont (1974)",
          "Amílcar Vargas Gavilano (1974)",
          "Luis Barúa Castañeda (1975)",
          "Walter Piazza Tanguis (1977)",
          "Alcibíades Sáenz Barsallo (1977)",
          "Javier Silva Ruete (1978)",
          "Manuel Ulloa Elías (1980)",
          "Carlos Rodríguez Pastor Mendoza (1983)",
          "José Benavides Muñoz (1984)",
          "Guillermo Garrido Lecca Álvarez Calderón (1985)",
          "Luis Alva Castro (1985)",
          "Gustavo Saberbein Chevalier (1987)",
          "César Robles Freyre (1988)",
          "Abel Salinas Izaguirre (1988)",
          "Carlos Justo Rivas Dávila (1988)",
          "César Vásquez Bazán (1989)",
          "Juan Carlos Hurtado Miller (1990)",
          "Carlos Boloña Behr (1991)",
          "Jorge Camet Dickmann (1993)",
          "Jorge Francisco Baca Campodónico (1998)",
          "Víctor Joy Way (1999)",
          "Efraín Goldenberg Schreiber (1999)",
          "Carlos Boloña Behr (2000)",
          "Javier Silva Ruete (2000)",
          "Pedro Pablo Kuczynski (2001)",
          "Javier Silva Ruete (2002)",
          "Jaime Quijandría Salmón (2003)",
          "Pedro Pablo Kuczynski (2004)",
          "Fernando Zavala Lombardi (2005)",
          "Luis Carranza Ugarte (2006)",
          "Luis Valdivieso Montano (2008)",
          "Luis Carranza Ugarte (2009)",
          "Mercedes Aráoz Fernández (2009)",
          "Ismael Benavides Ferreyros (2010)",
          "Luis Miguel Castilla Rubio (2011)",
          "Alonso Arturo Segura Vasi (2014)",
          "Alfredo Thorne Vetter (2016)",
          "Fernando Martín Zavala Lombardi (2017)",
          "Claudia María Cooper Fort (2017)",
          "David Tuesta Cárdenas (2018)",
          "Carlos Oliva (2018)",
          "María Antonieta Alva (2019)",
          "José Arista Arbildo (2020)",
          "Waldo Mendoza Bellido (2020)",
          "Pedro Francke (2021)",
          "Óscar Graham (2022)",
          "Kurt Burneo Farfán (2022)",
          "Alex Contreras Miranda (2022)",
          "José Arista Arbildo (2024)"
         ]
        }
       ],
       "layout": {
        "showlegend": true,
        "template": {
         "data": {
          "bar": [
           {
            "error_x": {
             "color": "#2a3f5f"
            },
            "error_y": {
             "color": "#2a3f5f"
            },
            "marker": {
             "line": {
              "color": "#E5ECF6",
              "width": 0.5
             },
             "pattern": {
              "fillmode": "overlay",
              "size": 10,
              "solidity": 0.2
             }
            },
            "type": "bar"
           }
          ],
          "barpolar": [
           {
            "marker": {
             "line": {
              "color": "#E5ECF6",
              "width": 0.5
             },
             "pattern": {
              "fillmode": "overlay",
              "size": 10,
              "solidity": 0.2
             }
            },
            "type": "barpolar"
           }
          ],
          "carpet": [
           {
            "aaxis": {
             "endlinecolor": "#2a3f5f",
             "gridcolor": "white",
             "linecolor": "white",
             "minorgridcolor": "white",
             "startlinecolor": "#2a3f5f"
            },
            "baxis": {
             "endlinecolor": "#2a3f5f",
             "gridcolor": "white",
             "linecolor": "white",
             "minorgridcolor": "white",
             "startlinecolor": "#2a3f5f"
            },
            "type": "carpet"
           }
          ],
          "choropleth": [
           {
            "colorbar": {
             "outlinewidth": 0,
             "ticks": ""
            },
            "type": "choropleth"
           }
          ],
          "contour": [
           {
            "colorbar": {
             "outlinewidth": 0,
             "ticks": ""
            },
            "colorscale": [
             [
              0,
              "#0d0887"
             ],
             [
              0.1111111111111111,
              "#46039f"
             ],
             [
              0.2222222222222222,
              "#7201a8"
             ],
             [
              0.3333333333333333,
              "#9c179e"
             ],
             [
              0.4444444444444444,
              "#bd3786"
             ],
             [
              0.5555555555555556,
              "#d8576b"
             ],
             [
              0.6666666666666666,
              "#ed7953"
             ],
             [
              0.7777777777777778,
              "#fb9f3a"
             ],
             [
              0.8888888888888888,
              "#fdca26"
             ],
             [
              1,
              "#f0f921"
             ]
            ],
            "type": "contour"
           }
          ],
          "contourcarpet": [
           {
            "colorbar": {
             "outlinewidth": 0,
             "ticks": ""
            },
            "type": "contourcarpet"
           }
          ],
          "heatmap": [
           {
            "colorbar": {
             "outlinewidth": 0,
             "ticks": ""
            },
            "colorscale": [
             [
              0,
              "#0d0887"
             ],
             [
              0.1111111111111111,
              "#46039f"
             ],
             [
              0.2222222222222222,
              "#7201a8"
             ],
             [
              0.3333333333333333,
              "#9c179e"
             ],
             [
              0.4444444444444444,
              "#bd3786"
             ],
             [
              0.5555555555555556,
              "#d8576b"
             ],
             [
              0.6666666666666666,
              "#ed7953"
             ],
             [
              0.7777777777777778,
              "#fb9f3a"
             ],
             [
              0.8888888888888888,
              "#fdca26"
             ],
             [
              1,
              "#f0f921"
             ]
            ],
            "type": "heatmap"
           }
          ],
          "heatmapgl": [
           {
            "colorbar": {
             "outlinewidth": 0,
             "ticks": ""
            },
            "colorscale": [
             [
              0,
              "#0d0887"
             ],
             [
              0.1111111111111111,
              "#46039f"
             ],
             [
              0.2222222222222222,
              "#7201a8"
             ],
             [
              0.3333333333333333,
              "#9c179e"
             ],
             [
              0.4444444444444444,
              "#bd3786"
             ],
             [
              0.5555555555555556,
              "#d8576b"
             ],
             [
              0.6666666666666666,
              "#ed7953"
             ],
             [
              0.7777777777777778,
              "#fb9f3a"
             ],
             [
              0.8888888888888888,
              "#fdca26"
             ],
             [
              1,
              "#f0f921"
             ]
            ],
            "type": "heatmapgl"
           }
          ],
          "histogram": [
           {
            "marker": {
             "pattern": {
              "fillmode": "overlay",
              "size": 10,
              "solidity": 0.2
             }
            },
            "type": "histogram"
           }
          ],
          "histogram2d": [
           {
            "colorbar": {
             "outlinewidth": 0,
             "ticks": ""
            },
            "colorscale": [
             [
              0,
              "#0d0887"
             ],
             [
              0.1111111111111111,
              "#46039f"
             ],
             [
              0.2222222222222222,
              "#7201a8"
             ],
             [
              0.3333333333333333,
              "#9c179e"
             ],
             [
              0.4444444444444444,
              "#bd3786"
             ],
             [
              0.5555555555555556,
              "#d8576b"
             ],
             [
              0.6666666666666666,
              "#ed7953"
             ],
             [
              0.7777777777777778,
              "#fb9f3a"
             ],
             [
              0.8888888888888888,
              "#fdca26"
             ],
             [
              1,
              "#f0f921"
             ]
            ],
            "type": "histogram2d"
           }
          ],
          "histogram2dcontour": [
           {
            "colorbar": {
             "outlinewidth": 0,
             "ticks": ""
            },
            "colorscale": [
             [
              0,
              "#0d0887"
             ],
             [
              0.1111111111111111,
              "#46039f"
             ],
             [
              0.2222222222222222,
              "#7201a8"
             ],
             [
              0.3333333333333333,
              "#9c179e"
             ],
             [
              0.4444444444444444,
              "#bd3786"
             ],
             [
              0.5555555555555556,
              "#d8576b"
             ],
             [
              0.6666666666666666,
              "#ed7953"
             ],
             [
              0.7777777777777778,
              "#fb9f3a"
             ],
             [
              0.8888888888888888,
              "#fdca26"
             ],
             [
              1,
              "#f0f921"
             ]
            ],
            "type": "histogram2dcontour"
           }
          ],
          "mesh3d": [
           {
            "colorbar": {
             "outlinewidth": 0,
             "ticks": ""
            },
            "type": "mesh3d"
           }
          ],
          "parcoords": [
           {
            "line": {
             "colorbar": {
              "outlinewidth": 0,
              "ticks": ""
             }
            },
            "type": "parcoords"
           }
          ],
          "pie": [
           {
            "automargin": true,
            "type": "pie"
           }
          ],
          "scatter": [
           {
            "fillpattern": {
             "fillmode": "overlay",
             "size": 10,
             "solidity": 0.2
            },
            "type": "scatter"
           }
          ],
          "scatter3d": [
           {
            "line": {
             "colorbar": {
              "outlinewidth": 0,
              "ticks": ""
             }
            },
            "marker": {
             "colorbar": {
              "outlinewidth": 0,
              "ticks": ""
             }
            },
            "type": "scatter3d"
           }
          ],
          "scattercarpet": [
           {
            "marker": {
             "colorbar": {
              "outlinewidth": 0,
              "ticks": ""
             }
            },
            "type": "scattercarpet"
           }
          ],
          "scattergeo": [
           {
            "marker": {
             "colorbar": {
              "outlinewidth": 0,
              "ticks": ""
             }
            },
            "type": "scattergeo"
           }
          ],
          "scattergl": [
           {
            "marker": {
             "colorbar": {
              "outlinewidth": 0,
              "ticks": ""
             }
            },
            "type": "scattergl"
           }
          ],
          "scattermapbox": [
           {
            "marker": {
             "colorbar": {
              "outlinewidth": 0,
              "ticks": ""
             }
            },
            "type": "scattermapbox"
           }
          ],
          "scatterpolar": [
           {
            "marker": {
             "colorbar": {
              "outlinewidth": 0,
              "ticks": ""
             }
            },
            "type": "scatterpolar"
           }
          ],
          "scatterpolargl": [
           {
            "marker": {
             "colorbar": {
              "outlinewidth": 0,
              "ticks": ""
             }
            },
            "type": "scatterpolargl"
           }
          ],
          "scatterternary": [
           {
            "marker": {
             "colorbar": {
              "outlinewidth": 0,
              "ticks": ""
             }
            },
            "type": "scatterternary"
           }
          ],
          "surface": [
           {
            "colorbar": {
             "outlinewidth": 0,
             "ticks": ""
            },
            "colorscale": [
             [
              0,
              "#0d0887"
             ],
             [
              0.1111111111111111,
              "#46039f"
             ],
             [
              0.2222222222222222,
              "#7201a8"
             ],
             [
              0.3333333333333333,
              "#9c179e"
             ],
             [
              0.4444444444444444,
              "#bd3786"
             ],
             [
              0.5555555555555556,
              "#d8576b"
             ],
             [
              0.6666666666666666,
              "#ed7953"
             ],
             [
              0.7777777777777778,
              "#fb9f3a"
             ],
             [
              0.8888888888888888,
              "#fdca26"
             ],
             [
              1,
              "#f0f921"
             ]
            ],
            "type": "surface"
           }
          ],
          "table": [
           {
            "cells": {
             "fill": {
              "color": "#EBF0F8"
             },
             "line": {
              "color": "white"
             }
            },
            "header": {
             "fill": {
              "color": "#C8D4E3"
             },
             "line": {
              "color": "white"
             }
            },
            "type": "table"
           }
          ]
         },
         "layout": {
          "annotationdefaults": {
           "arrowcolor": "#2a3f5f",
           "arrowhead": 0,
           "arrowwidth": 1
          },
          "autotypenumbers": "strict",
          "coloraxis": {
           "colorbar": {
            "outlinewidth": 0,
            "ticks": ""
           }
          },
          "colorscale": {
           "diverging": [
            [
             0,
             "#8e0152"
            ],
            [
             0.1,
             "#c51b7d"
            ],
            [
             0.2,
             "#de77ae"
            ],
            [
             0.3,
             "#f1b6da"
            ],
            [
             0.4,
             "#fde0ef"
            ],
            [
             0.5,
             "#f7f7f7"
            ],
            [
             0.6,
             "#e6f5d0"
            ],
            [
             0.7,
             "#b8e186"
            ],
            [
             0.8,
             "#7fbc41"
            ],
            [
             0.9,
             "#4d9221"
            ],
            [
             1,
             "#276419"
            ]
           ],
           "sequential": [
            [
             0,
             "#0d0887"
            ],
            [
             0.1111111111111111,
             "#46039f"
            ],
            [
             0.2222222222222222,
             "#7201a8"
            ],
            [
             0.3333333333333333,
             "#9c179e"
            ],
            [
             0.4444444444444444,
             "#bd3786"
            ],
            [
             0.5555555555555556,
             "#d8576b"
            ],
            [
             0.6666666666666666,
             "#ed7953"
            ],
            [
             0.7777777777777778,
             "#fb9f3a"
            ],
            [
             0.8888888888888888,
             "#fdca26"
            ],
            [
             1,
             "#f0f921"
            ]
           ],
           "sequentialminus": [
            [
             0,
             "#0d0887"
            ],
            [
             0.1111111111111111,
             "#46039f"
            ],
            [
             0.2222222222222222,
             "#7201a8"
            ],
            [
             0.3333333333333333,
             "#9c179e"
            ],
            [
             0.4444444444444444,
             "#bd3786"
            ],
            [
             0.5555555555555556,
             "#d8576b"
            ],
            [
             0.6666666666666666,
             "#ed7953"
            ],
            [
             0.7777777777777778,
             "#fb9f3a"
            ],
            [
             0.8888888888888888,
             "#fdca26"
            ],
            [
             1,
             "#f0f921"
            ]
           ]
          },
          "colorway": [
           "#636efa",
           "#EF553B",
           "#00cc96",
           "#ab63fa",
           "#FFA15A",
           "#19d3f3",
           "#FF6692",
           "#B6E880",
           "#FF97FF",
           "#FECB52"
          ],
          "font": {
           "color": "#2a3f5f"
          },
          "geo": {
           "bgcolor": "white",
           "lakecolor": "white",
           "landcolor": "#E5ECF6",
           "showlakes": true,
           "showland": true,
           "subunitcolor": "white"
          },
          "hoverlabel": {
           "align": "left"
          },
          "hovermode": "closest",
          "mapbox": {
           "style": "light"
          },
          "paper_bgcolor": "white",
          "plot_bgcolor": "#E5ECF6",
          "polar": {
           "angularaxis": {
            "gridcolor": "white",
            "linecolor": "white",
            "ticks": ""
           },
           "bgcolor": "#E5ECF6",
           "radialaxis": {
            "gridcolor": "white",
            "linecolor": "white",
            "ticks": ""
           }
          },
          "scene": {
           "xaxis": {
            "backgroundcolor": "#E5ECF6",
            "gridcolor": "white",
            "gridwidth": 2,
            "linecolor": "white",
            "showbackground": true,
            "ticks": "",
            "zerolinecolor": "white"
           },
           "yaxis": {
            "backgroundcolor": "#E5ECF6",
            "gridcolor": "white",
            "gridwidth": 2,
            "linecolor": "white",
            "showbackground": true,
            "ticks": "",
            "zerolinecolor": "white"
           },
           "zaxis": {
            "backgroundcolor": "#E5ECF6",
            "gridcolor": "white",
            "gridwidth": 2,
            "linecolor": "white",
            "showbackground": true,
            "ticks": "",
            "zerolinecolor": "white"
           }
          },
          "shapedefaults": {
           "line": {
            "color": "#2a3f5f"
           }
          },
          "ternary": {
           "aaxis": {
            "gridcolor": "white",
            "linecolor": "white",
            "ticks": ""
           },
           "baxis": {
            "gridcolor": "white",
            "linecolor": "white",
            "ticks": ""
           },
           "bgcolor": "#E5ECF6",
           "caxis": {
            "gridcolor": "white",
            "linecolor": "white",
            "ticks": ""
           }
          },
          "title": {
           "x": 0.05
          },
          "xaxis": {
           "automargin": true,
           "gridcolor": "white",
           "linecolor": "white",
           "ticks": "",
           "title": {
            "standoff": 15
           },
           "zerolinecolor": "white",
           "zerolinewidth": 2
          },
          "yaxis": {
           "automargin": true,
           "gridcolor": "white",
           "linecolor": "white",
           "ticks": "",
           "title": {
            "standoff": 15
           },
           "zerolinecolor": "white",
           "zerolinewidth": 2
          }
         }
        },
        "title": {
         "text": "Duración en el Cargo de los Ministros de Economía del Perú"
        },
        "xaxis": {
         "title": {
          "text": "Duración en el Cargo (días)"
         }
        },
        "yaxis": {
         "title": {
          "text": "Ministros"
         }
        }
       }
      }
     },
     "metadata": {},
     "output_type": "display_data"
    }
   ],
   "source": [
    "# Crear el gráfico de cascada horizontal\n",
    "fig = go.Figure(go.Waterfall(\n",
    "    name=\"Días\",\n",
    "    orientation=\"h\",  # Orientación horizontal\n",
    "    measure=[\"relative\" for _ in df['Duración']],\n",
    "    y=df['Identificador'],  # Usar identificador único en el eje Y\n",
    "    textposition=\"outside\",\n",
    "    text=[f\"{val} días\" for val in df['Duración']],\n",
    "    x=df['Duración'],  # Duraciones en el eje X\n",
    "    connector={\"line\":{\"color\":\"rgb(63, 63, 63)\"}},\n",
    "))\n",
    "\n",
    "# Configurar el layout del gráfico\n",
    "fig.update_layout(\n",
    "    title=\"Duración en el Cargo de los Ministros de Economía del Perú\",\n",
    "    yaxis_title=\"Ministros\",\n",
    "    xaxis_title=\"Duración en el Cargo (días)\",\n",
    "    showlegend=True\n",
    ")\n",
    "\n",
    "# Mostrar el gráfico\n",
    "fig.show()\n"
   ]
  },
  {
   "cell_type": "markdown",
   "metadata": {},
   "source": [
    "### Usemos el API del BCRP"
   ]
  },
  {
   "cell_type": "code",
   "execution_count": null,
   "metadata": {},
   "outputs": [],
   "source": [
    "BCRP_URL = \"https://estadisticas.bcrp.gob.pe/estadisticas/series/trimestrales/resultados/PN02526AQ/html/2007-1/2024-4/\"\n",
    "BCRP = pd.read_html(BCRP_URL) \n"
   ]
  },
  {
   "cell_type": "code",
   "execution_count": 43,
   "metadata": {},
   "outputs": [
    {
     "data": {
      "text/html": [
       "<div>\n",
       "<style scoped>\n",
       "    .dataframe tbody tr th:only-of-type {\n",
       "        vertical-align: middle;\n",
       "    }\n",
       "\n",
       "    .dataframe tbody tr th {\n",
       "        vertical-align: top;\n",
       "    }\n",
       "\n",
       "    .dataframe thead th {\n",
       "        text-align: right;\n",
       "    }\n",
       "</style>\n",
       "<table border=\"1\" class=\"dataframe\">\n",
       "  <thead>\n",
       "    <tr style=\"text-align: right;\">\n",
       "      <th></th>\n",
       "      <th>Fecha</th>\n",
       "      <th>Producto bruto interno por tipo de gasto (variaciones porcentuales reales anualizadas) - PBI</th>\n",
       "    </tr>\n",
       "  </thead>\n",
       "  <tbody>\n",
       "    <tr>\n",
       "      <th>0</th>\n",
       "      <td>T107</td>\n",
       "      <td>5.3</td>\n",
       "    </tr>\n",
       "    <tr>\n",
       "      <th>1</th>\n",
       "      <td>T207</td>\n",
       "      <td>6.3</td>\n",
       "    </tr>\n",
       "    <tr>\n",
       "      <th>2</th>\n",
       "      <td>T307</td>\n",
       "      <td>10.8</td>\n",
       "    </tr>\n",
       "    <tr>\n",
       "      <th>3</th>\n",
       "      <td>T407</td>\n",
       "      <td>11.4</td>\n",
       "    </tr>\n",
       "    <tr>\n",
       "      <th>4</th>\n",
       "      <td>T108</td>\n",
       "      <td>10.1</td>\n",
       "    </tr>\n",
       "    <tr>\n",
       "      <th>...</th>\n",
       "      <td>...</td>\n",
       "      <td>...</td>\n",
       "    </tr>\n",
       "    <tr>\n",
       "      <th>66</th>\n",
       "      <td>T323</td>\n",
       "      <td>-0.7</td>\n",
       "    </tr>\n",
       "    <tr>\n",
       "      <th>67</th>\n",
       "      <td>T423</td>\n",
       "      <td>-0.3</td>\n",
       "    </tr>\n",
       "    <tr>\n",
       "      <th>68</th>\n",
       "      <td>T124</td>\n",
       "      <td>1.4</td>\n",
       "    </tr>\n",
       "    <tr>\n",
       "      <th>69</th>\n",
       "      <td>T224</td>\n",
       "      <td>3.6</td>\n",
       "    </tr>\n",
       "    <tr>\n",
       "      <th>70</th>\n",
       "      <td>T324</td>\n",
       "      <td>3.8</td>\n",
       "    </tr>\n",
       "  </tbody>\n",
       "</table>\n",
       "<p>71 rows × 2 columns</p>\n",
       "</div>"
      ],
      "text/plain": [
       "   Fecha  \\\n",
       "0   T107   \n",
       "1   T207   \n",
       "2   T307   \n",
       "3   T407   \n",
       "4   T108   \n",
       "..   ...   \n",
       "66  T323   \n",
       "67  T423   \n",
       "68  T124   \n",
       "69  T224   \n",
       "70  T324   \n",
       "\n",
       "    Producto bruto interno por tipo de gasto (variaciones porcentuales reales anualizadas) - PBI  \n",
       "0                                                 5.3                                             \n",
       "1                                                 6.3                                             \n",
       "2                                                10.8                                             \n",
       "3                                                11.4                                             \n",
       "4                                                10.1                                             \n",
       "..                                                ...                                             \n",
       "66                                               -0.7                                             \n",
       "67                                               -0.3                                             \n",
       "68                                                1.4                                             \n",
       "69                                                3.6                                             \n",
       "70                                                3.8                                             \n",
       "\n",
       "[71 rows x 2 columns]"
      ]
     },
     "execution_count": 43,
     "metadata": {},
     "output_type": "execute_result"
    }
   ],
   "source": [
    "BCRP_data = BCRP[1]\n",
    "BCRP_data"
   ]
  },
  {
   "cell_type": "code",
   "execution_count": 44,
   "metadata": {},
   "outputs": [
    {
     "data": {
      "text/plain": [
       "Index(['Fecha', 'Producto bruto interno por tipo de gasto (variaciones porcentuales reales anualizadas) - PBI'], dtype='object')"
      ]
     },
     "execution_count": 44,
     "metadata": {},
     "output_type": "execute_result"
    }
   ],
   "source": [
    "BCRP_data.columns"
   ]
  },
  {
   "cell_type": "code",
   "execution_count": 46,
   "metadata": {},
   "outputs": [
    {
     "data": {
      "image/png": "[encoded data removed]",
      "text/plain": [
       "<Figure size 1000x500 with 1 Axes>"
      ]
     },
     "metadata": {},
     "output_type": "display_data"
    }
   ],
   "source": [
    "import matplotlib.pyplot as plt\n",
    "\n",
    "# Creación del gráfico de líneas\n",
    "plt.figure(figsize=(10, 5))\n",
    "plt.plot(BCRP_data['Fecha'], BCRP_data[\"Producto bruto interno por tipo de gasto (variaciones porcentuales reales anualizadas) - PBI\"], marker='o')\n",
    "plt.title('Producto Bruto Interno por Tipo de Gasto (Variaciones Porcentuales Reales Anualizadas)')\n",
    "plt.xlabel('Fecha')\n",
    "plt.ylabel('Variación Porcentual del PBI')\n",
    "plt.grid(True)\n",
    "plt.xticks(rotation=45)\n",
    "plt.tight_layout()\n"
   ]
  },
  {
   "cell_type": "markdown",
   "metadata": {},
   "source": [
    "## Web page structure"
   ]
  },
  {
   "cell_type": "markdown",
   "metadata": {},
   "source": [
    "Web pages use HyperText Markup Language (HTML). HTML isn't a programming language like Python. It's a markup language with its own syntax and rules. When a web browser like Chrome or Firefox downloads a web page, it reads the HTML to determine how to render and display it.\n",
    "\n",
    "Here's the HTML for a very simple web page:"
   ]
  },
  {
   "cell_type": "markdown",
   "metadata": {},
   "source": [
    "```html\n",
    "<html>\n",
    "    <head>\n",
    "        <title> A simple example page </title>\n",
    "    </head>\n",
    "    <body>\n",
    "        <p> Here is some simple content for this page </p>\n",
    "    </body>\n",
    "</html>\n",
    "```"
   ]
  },
  {
   "cell_type": "markdown",
   "metadata": {},
   "source": [
    "HTML consists of tags. We open a tag like this:"
   ]
  },
  {
   "cell_type": "markdown",
   "metadata": {},
   "source": [
    "```html\n",
    "<p>\n",
    "```"
   ]
  },
  {
   "cell_type": "markdown",
   "metadata": {},
   "source": [
    "We close a tag like this:"
   ]
  },
  {
   "cell_type": "markdown",
   "metadata": {},
   "source": [
    "```html\n",
    "</p>\n",
    "```"
   ]
  },
  {
   "cell_type": "markdown",
   "metadata": {},
   "source": [
    "Anything in between the opening and closing of a tag is the content of that tag. We can nest tags to create complex formatting rules. Here's an example:"
   ]
  },
  {
   "cell_type": "markdown",
   "metadata": {},
   "source": [
    "```html\n",
    "<p><b>This is a bold text</b></p>\n",
    "```"
   ]
  },
  {
   "cell_type": "markdown",
   "metadata": {},
   "source": [
    "The `b` tag bolds the text inside it, and the `p` tag creates a new paragraph. The HTML above will display as a bold paragraph because the `b` tag is inside the `p` tag. In other words, the `b` tag is nested within the `p` tag.\n",
    "\n",
    "HTML documents contain a few major sections. The `head` section contains information that's useful to the web browser that's rendering the page. (The user doesn't see it.) The `body` section contains the bulk of the content you will see in your browser.\n",
    "\n",
    "Different tags have different purposes. For example, the `title` tag tells the browser what to display at the top of your tab. The `p` tag indicates that the content inside it is a single paragraph."
   ]
  },
  {
   "cell_type": "markdown",
   "metadata": {},
   "source": [
    "Let´s start with a very [simple](https://dataquestio.github.io/web-scraping-pages/simple.html) website"
   ]
  },
  {
   "cell_type": "code",
   "execution_count": 47,
   "metadata": {},
   "outputs": [],
   "source": [
    "import requests"
   ]
  },
  {
   "cell_type": "code",
   "execution_count": 78,
   "metadata": {},
   "outputs": [
    {
     "data": {
      "text/plain": [
       "200"
      ]
     },
     "execution_count": 78,
     "metadata": {},
     "output_type": "execute_result"
    }
   ],
   "source": [
    "response = requests.get(\"https://dataquestio.github.io/web-scraping-pages/simple.html\")\n",
    "response.status_code"
   ]
  },
  {
   "cell_type": "code",
   "execution_count": 79,
   "metadata": {},
   "outputs": [
    {
     "data": {
      "text/plain": [
       "b'<!DOCTYPE html>\\n<html>\\n    <head>\\n        <title>A simple example page</title>\\n    </head>\\n    <body>\\n        <p>Here is some simple content for this page.</p>\\n    </body>\\n</html>'"
      ]
     },
     "execution_count": 79,
     "metadata": {},
     "output_type": "execute_result"
    }
   ],
   "source": [
    "content =response.content\n",
    "content"
   ]
  },
  {
   "cell_type": "code",
   "execution_count": 53,
   "metadata": {},
   "outputs": [
    {
     "name": "stdout",
     "output_type": "stream",
     "text": [
      "Requirement already satisfied: beautifulsoup4 in /Users/vfuentesc/miniconda3/lib/python3.11/site-packages (4.12.3)\n",
      "Requirement already satisfied: soupsieve>1.2 in /Users/vfuentesc/miniconda3/lib/python3.11/site-packages (from beautifulsoup4) (2.5)\n",
      "\n",
      "\u001b[1m[\u001b[0m\u001b[34;49mnotice\u001b[0m\u001b[1;39;49m]\u001b[0m\u001b[39;49m A new release of pip is available: \u001b[0m\u001b[31;49m24.2\u001b[0m\u001b[39;49m -> \u001b[0m\u001b[32;49m24.3.1\u001b[0m\n",
      "\u001b[1m[\u001b[0m\u001b[34;49mnotice\u001b[0m\u001b[1;39;49m]\u001b[0m\u001b[39;49m To update, run: \u001b[0m\u001b[32;49mpip install --upgrade pip\u001b[0m\n"
     ]
    }
   ],
   "source": [
    "# !pip install beautifulsoup4"
   ]
  },
  {
   "cell_type": "markdown",
   "metadata": {},
   "source": [
    "## BeautifulSoup"
   ]
  },
  {
   "cell_type": "markdown",
   "metadata": {},
   "source": [
    "Downloading the page is the easy part. Let's say that we want to get the text in the first paragraph. Now we need to parse the page and extract the information we want\n",
    "\n",
    "We'll use the `BeautifulSoup` library to parse the web page with Python. This library allows us to extract tags from an HTML document.\n",
    "\n",
    "We can think of HTML documents as \"trees,\" and the nested tags as \"branches\" (similar to a family tree). BeautifulSoup works the same way.\n",
    "\n",
    "In our simple page, for example, the root of the \"tree\" is the `html` tag"
   ]
  },
  {
   "cell_type": "markdown",
   "metadata": {},
   "source": [
    "```html\n",
    "<html>\n",
    "    <head>\n",
    "        <title> A simple example page </title>\n",
    "    </head>\n",
    "    <body>\n",
    "        <p> Here is some simple content for this page </p>\n",
    "    </body>\n",
    "</html>\n",
    "```"
   ]
  },
  {
   "cell_type": "markdown",
   "metadata": {},
   "source": [
    "The `html` tag contains two \"branches,\" `head` and `body`. `head` contains one \"branch\", `title` and `body` contains one branch, `p`. Drilling down through these multiple branches is one way to parse a web page.\n",
    "\n",
    "To extract the text inside the `p` tag, we need to get the `body` element, then the `p` element, and then finally the text inside the `p` element."
   ]
  },
  {
   "cell_type": "code",
   "execution_count": 68,
   "metadata": {},
   "outputs": [
    {
     "data": {
      "text/plain": [
       "b'<!DOCTYPE html>\\n<html lang=\"en\">\\n<head>\\n    <title>Radware Captcha Page</title>\\n    <meta charset=\"utf-8\">\\n<meta name=\"viewport\" content=\"width=device-width, initial-scale=1\">\\n<link rel=\"stylesheet\" href=\"https://captcha.perfdrive.com/captcha-public/css/shieldsquare_styles.min.css\">\\n    <script type=\"text/javascript\">\\n\\twindow.SSJSInternal = 21417;\\n\\n\\tvar __uzdbm_1 = \"6813d4ed-ace4-44ef-95c1-1bc02bbd436f\";\\n\\tvar __uzdbm_2 = \"OTBhYTk0MTgtYmp1bi00ZWIwLWE0ODktMjk2M2MxY2NhYTNhJDE4MS42Ny4xMzguMTAy\";\\n\\t\\n\\t(function(w, d, e, u, c, g, a, b){\\n\\t\\tw[\"SSJSConnectorObj\"] = w[\"SSJSConnectorObj\"] || {ss_cid : c, domain_info: g};\\n\\t\\ta = d.createElement(e);\\n\\t\\ta.async = true;\\n\\t\\ta.src = u;\\n\\t\\tb = d.getElementsByTagName(e)[0];\\n\\t\\tb.parentNode.insertBefore(a, b);\\n\\t})(window,document,\"script\",\"https://cdn.perfdrive.com/aperture/aperture.js\",\"b8c3\",\"auto\");\\n</script>\\n\\n<script type=\"text/javascript\">\\nfunction _0x147a(){var _0x2ec979=[\\'ecb5e100e5a9a3e7f6d1fd97512215282\\',\\'mousemove\\',\\'toGMTString\\',\\'0xcvd\\',\\'1976572igpWBa\\',\\'touches\\',\\'1993290amMtaY\\',\\'block\\',\\'2128497rXvxFu\\',\\'Udr9HvhYUw\\',\\'getTime\\',\\'style\\',\\'parentElement\\',\\'5876928iktpYv\\',\\';\\\\x20path=/\\',\\'8QVQoCR\\',\\'height\\',\\'6mLcKVK\\',\\'mouseup\\',\\'cssl\\',\\'div\\',\\'className\\',\\'Enyf7MTcBK\\',\\'27LqzsxS\\',\\'cbfcl\\',\\'DOMContentLoaded\\',\\'indexOf\\',\\'tagName\\',\\'charCodeAt\\',\\'display\\',\\'8tqwifW\\',\\'complete\\',\\'substring\\',\\'hsol\\',\\'ssi\\',\\'1114395tUAPUj\\',\\'floor\\',\\'cf_input\\',\\'cbfm\\',\\'length\\',\\'hidden\\',\\'outerHTML\\',\\'cbfer\\',\\'mousedown\\',\\'split\\',\\'opacity\\',\\'83604qtrwiD\\',\\'interactive\\',\\'00000\\',\\'csil\\',\\'visible\\',\\'value\\',\\'random\\',\\'touchmove\\',\\'toString\\',\\'vbe\\',\\'trim\\',\\'cbft\\',\\'blk\\',\\'location\\',\\'csol\\',\\'iid\\',\\'clientY\\',\\'join\\',\\'changedTouches\\',\\'visibility\\',\\'Bdr9HvhYUw\\',\\'Unyf7MTcBK\\',\\'hcaptcha\\',\\';\\\\x20expires=\\',\\'264VNJZSS\\',\\'186838SghUiN\\',\\'querySelector\\',\\'splice\\',\\'replace\\',\\'cbf\\',\\'now\\',\\'getElementsByTagName\\',\\'href\\',\\'push\\',\\'mcl\\',\\'keys\\',\\'iframe\\',\\'body\\',\\'src\\',\\'getResponse\\',\\'cookie\\',\\'hdn\\',\\'getElementById\\',\\'addEventListener\\',\\'width\\'];_0x147a=function(){return _0x2ec979;};return _0x147a();}function _0x30d8(_0x247b86,_0x53de28){var _0x147a6e=_0x147a();return _0x30d8=function(_0x30d8da,_0x528936){_0x30d8da=_0x30d8da-0xa6;var _0x4e5d5c=_0x147a6e[_0x30d8da];return _0x4e5d5c;},_0x30d8(_0x247b86,_0x53de28);}var _0x1f255a=_0x30d8;(function(_0xc5d590,_0x1f38c1){var _0x494f6f=_0x30d8,_0x433ce1=_0xc5d590();while(!![]){try{var _0x572e69=parseInt(_0x494f6f(0xdc))/0x1*(-parseInt(_0x494f6f(0xb3))/0x2)+-parseInt(_0x494f6f(0xa6))/0x3*(-parseInt(_0x494f6f(0xf4))/0x4)+parseInt(_0x494f6f(0xb8))/0x5+parseInt(_0x494f6f(0xfd))/0x6+-parseInt(_0x494f6f(0xf8))/0x7*(parseInt(_0x494f6f(0xff))/0x8)+parseInt(_0x494f6f(0xac))/0x9*(-parseInt(_0x494f6f(0xf6))/0xa)+-parseInt(_0x494f6f(0xdb))/0xb*(-parseInt(_0x494f6f(0xc3))/0xc);if(_0x572e69===_0x1f38c1)break;else _0x433ce1[\\'push\\'](_0x433ce1[\\'shift\\']());}catch(_0x12641e){_0x433ce1[\\'push\\'](_0x433ce1[\\'shift\\']());}}}(_0x147a,0xacf63));var radCfco=![],radCfdbs=null,radCfresOp=\\'\\',radCfeMap={};function oco(){hOpenRad();}function ocs(){hSolvedRad();}function hOpenRad(){try{radCfco=!![],mb3tx();}catch(_0x354896){radSetErrCook(\\'hop\\',_0x354896[\\'toString\\']());}}function hSolvedRad(){var _0x29eec6=_0x30d8,_0x45c84d=\\'Hnyf7MTcBK\\',_0x5421c8=_0x29eec6(0xd7);try{if(hcaptcha){var _0x2fe432=hcaptcha[\\'getRespKey\\'](),_0x10d49a=hcaptcha[_0x29eec6(0xea)]();_0x2fe432[_0x29eec6(0xbc)]>=0xa&&(_0x45c84d=_0x2fe432[_0x29eec6(0xb5)](_0x2fe432[_0x29eec6(0xbc)]-0xa)),_0x10d49a[_0x29eec6(0xbc)]>=0xa&&(_0x5421c8=_0x10d49a[_0x29eec6(0xb5)](_0x10d49a[_0x29eec6(0xbc)]-0xa));}else _0x45c84d=_0x29eec6(0xd8),_0x5421c8=_0x29eec6(0xf9);}catch(_0x5b2adc){_0x45c84d=_0x29eec6(0xab),_0x5421c8=\\'Edr9HvhYUw\\';}try{ldlnb(_0x45c84d,_0x5421c8),mb4tx();}catch(_0x4d1232){radSetErrCook(_0x29eec6(0xb6),_0x4d1232[_0x29eec6(0xcb)]());}}function xrcpc(_0x53dbb2,_0x52dac9,_0x34ed9f){var _0x54f593=_0x30d8;try{var _0x12d48f;if(_0x34ed9f){var _0x5b4460=new Date();_0x5b4460[\\'setTime\\'](_0x5b4460[\\'getTime\\']()+_0x34ed9f*0x3c*0x3e8),_0x12d48f=_0x54f593(0xda)+_0x5b4460[_0x54f593(0xf2)]();}else _0x12d48f=\\'\\';document[_0x54f593(0xeb)]=_0x53dbb2+\\'=\\'+_0x52dac9+_0x12d48f+_0x54f593(0xfe);}catch(_0x4d4256){}}function otkhd(_0x536629){var _0xe62a36=_0x30d8,_0x1f004c=\\'\\',_0x5df322=\\'\\',_0x22cba3=[];for(var _0x3c5ceb in _0x536629){_0x22cba3[_0xe62a36(0xe4)]([_0x3c5ceb,_0x536629[_0x3c5ceb]]);}while(_0x22cba3[_0xe62a36(0xbc)]>0x0){var _0x176e65=Math[\\'floor\\'](Math[_0xe62a36(0xc9)]()*_0x22cba3[_0xe62a36(0xbc)]),_0x5ebc8b=_0x22cba3[_0xe62a36(0xde)](_0x176e65,0x1)[0x0],_0x3c5ceb=_0x5ebc8b[0x0],_0x1312ce=_0x5ebc8b[0x1];_0x5df322+=_0x1312ce,_0x1f004c+=_0x3c5ceb;}return _0x5df322+_0x1f004c+getRandomNumber()[_0xe62a36(0xcb)]();}function getRandomNumber(){var _0x49fe7f=_0x30d8;const _0x3b982d=0x2710,_0xcb37e3=0x1869f;return Math[_0x49fe7f(0xb9)](Math[_0x49fe7f(0xc9)]()*(_0xcb37e3-_0x3b982d+0x1))+_0x3b982d;}function mdhx(_0x2ca561){var _0x3d2c5b=_0x30d8;try{let _0x3865ad=0x0;for(let _0xad1171=0x0;_0xad1171<_0x2ca561[_0x3d2c5b(0xbc)];_0xad1171++){_0x3865ad+=_0x2ca561[_0x3d2c5b(0xb1)](_0xad1171);}return _0x3865ad[_0x3d2c5b(0xcb)](0x10)[\\'padStart\\'](0x4,\\'0\\');}catch(_0x182adc){return _0x3d2c5b(0xf0);}}function getQueryParams(_0x492952){var _0x2e0814=_0x30d8;const _0x2fad8f=_0x492952[\\'slice\\'](_0x492952[_0x2e0814(0xaf)](\\'?\\')+0x1)[\\'split\\'](\\'&\\'),_0x586c67={};return _0x2fad8f[\\'map\\'](_0x44b772=>{var _0x2c64e1=_0x2e0814;const [_0x2d1587,_0x51cb0c]=_0x44b772[_0x2c64e1(0xc1)](\\'=\\');_0x586c67[_0x2d1587]=decodeURIComponent(_0x51cb0c);}),_0x586c67;}function getPidDigestSalt(){var _0x1e7d32=_0x30d8;try{var _0x393754=getQueryParams(window[_0x1e7d32(0xd0)][_0x1e7d32(0xe3)]),_0x13335e=_0x393754[_0x1e7d32(0xb7)]!==undefined?_0x393754[\\'ssi\\']:_0x393754[_0x1e7d32(0xd2)]!==undefined?_0x393754[_0x1e7d32(0xd2)]:_0x1e7d32(0xc5);return _0x13335e[\\'substring\\'](_0x13335e[_0x1e7d32(0xbc)]-0x5);}catch(_0x8d2795){return _0x1e7d32(0xf3);}}function ldlnb(_0x2a38e3,_0x1dd66d){var _0x5be7a7=_0x30d8;try{var _0x364a0b=getRandomNumber()[_0x5be7a7(0xcb)](),_0x10f263=getRandomNumber()[_0x5be7a7(0xcb)](),_0x46a69a=Math[_0x5be7a7(0xb9)](Date[_0x5be7a7(0xe1)]()/0x3e8)[_0x5be7a7(0xcb)](),_0xbebb64=_0x46a69a[\\'substring\\'](0x0,0x5),_0x7c923f=_0x46a69a[_0x5be7a7(0xb5)](0x5);const _0x395cd4=radCfco?\\'1\\':\\'0\\',_0x1504f3=\\'1\\',_0x16ab60=getPidDigestSalt();var _0x1bdda8={0x1:_0x364a0b,0x2:_0x1504f3,0x3:_0xbebb64,0x4:_0x395cd4,0x5:_0x10f263,0x6:_0x7c923f,0x7:_0x16ab60,0x8:_0x2a38e3,0x9:_0x1dd66d},_0x3facd2=otkhd(_0x1bdda8);const _0x1e035b=mdhx(_0x3facd2);var _0x19b76c=_0x5be7a7(0xe0)+_0x16ab60;const _0x3ebd1c=\\'V01\\';var _0xe767be=_0x3ebd1c+_0x3facd2+_0x1e035b,_0x46d561=document[_0x5be7a7(0xed)](_0x5be7a7(0xba));_0x46d561&&(_0x46d561[_0x5be7a7(0xc8)]=_0xe767be),xrcpc(_0x19b76c,_0xe767be,0x2);}catch(_0x30e1d4){radSetErrCook(_0x5be7a7(0xd1),_0x30e1d4[_0x5be7a7(0xcb)]());}}try{(function(){var _0x2de37f=_0x30d8;let _0x3eda34,_0x482613=0x0;const _0x136efe=_0x2de37f(0xbb)+getPidDigestSalt();let _0xcff862=0x0,_0x3983d8=0x0,_0x37ecca=0x0,_0x471d6e=0x0;document[\\'addEventListener\\'](_0x2de37f(0xc0),function(_0x2f25e3){var _0x5658f8=_0x2de37f;_0x3eda34=new Date()[_0x5658f8(0xfa)]();}),document[_0x2de37f(0xee)](_0x2de37f(0xa7),function(_0x2a9bcf){var _0x225af4=_0x2de37f;if(_0x3eda34){_0x471d6e=new Date()[_0x225af4(0xfa)](),_0x37ecca=_0x471d6e-_0x3eda34,_0xcff862=_0x2a9bcf[\\'x\\'],_0x3983d8=_0x2a9bcf[\\'y\\'];var _0x19ab07=_0xcff862+\\'-\\'+_0x3983d8+\\'-\\'+_0x37ecca+\\'-\\'+_0x482613+\\'-\\'+_0x471d6e;xrcpc(_0x136efe,_0x19ab07,0x2),_0x3eda34=null;}}),document[_0x2de37f(0xee)](_0x2de37f(0xf1),function(_0x530205){_0x482613+=0x1;}),setInterval(function(){var _0x3fc55c=_0xcff862+\\'-\\'+_0x3983d8+\\'-\\'+_0x37ecca+\\'-\\'+_0x482613+\\'-\\'+_0x471d6e;xrcpc(_0x136efe,_0x3fc55c,0x2);},0x7d0);}());}catch(_0x5ac1c3){radSetErrCook(_0x1f255a(0xe5));}try{(function(){var _0xd324c3=_0x1f255a;let _0x242032,_0x58f631=0x0;const _0x4a021b=_0xd324c3(0xce)+getPidDigestSalt();let _0x5ad36c=0x0,_0x29b166=0x0,_0x235177=0x0,_0x4ecad1=0x0;document[_0xd324c3(0xee)](\\'touchstart\\',function(_0x289113){var _0x4983ab=_0xd324c3,_0x58fec4=_0x289113[_0x4983ab(0xf5)][0x0];_0x424a17(_0x58fec4[\\'clientX\\'],_0x58fec4[\\'clientY\\']);}),document[\\'addEventListener\\'](\\'touchend\\',function(_0x19c299){var _0x1f7230=_0xd324c3,_0x26aac3=_0x19c299[_0x1f7230(0xd5)][0x0];_0x36e3e6(_0x26aac3[\\'clientX\\'],_0x26aac3[_0x1f7230(0xd3)]);});function _0x424a17(_0x4b72e9,_0x44893a){var _0x3e845b=_0xd324c3;_0x242032=new Date()[_0x3e845b(0xfa)](),_0x5ad36c=_0x4b72e9,_0x29b166=_0x44893a;}function _0x36e3e6(_0x1ca010,_0x12576f){var _0x35aa91=_0xd324c3;if(_0x242032){_0x4ecad1=new Date()[_0x35aa91(0xfa)](),_0x235177=_0x4ecad1-_0x242032,_0x5ad36c=_0x1ca010,_0x29b166=_0x12576f;var _0x3c2824=_0x5ad36c+\\'-\\'+_0x29b166+\\'-\\'+_0x235177+\\'-\\'+_0x58f631+\\'-\\'+_0x4ecad1;xrcpc(_0x4a021b,_0x3c2824,0x2),_0x242032=null;}}document[_0xd324c3(0xee)](_0xd324c3(0xca),function(_0x10eff9){_0x58f631+=0x1;}),setInterval(function(){var _0x56bb43=_0x5ad36c+\\'-\\'+_0x29b166+\\'-\\'+_0x235177+\\'-\\'+_0x58f631+\\'-\\'+_0x4ecad1;xrcpc(_0x4a021b,_0x56bb43,0x2);},0x7d0);}());}catch(_0x257cb4){radSetErrCook(\\'tcl\\');}try{(function(){setInterval(function(){var _0x2ef1e0=_0x30d8;try{var _0x42de76={},_0x455e15=document[_0x2ef1e0(0xe2)](\\'*\\');for(var _0x748547=0x0;_0x748547<_0x455e15[_0x2ef1e0(0xbc)];_0x748547++){var _0x235866=_0x455e15[_0x748547];let _0x551e51=_0x235866[_0x2ef1e0(0xaa)];if(typeof _0x551e51===\\'string\\'){var _0x2b31e8=_0x551e51[\\'split\\'](\\'\\\\x20\\');for(var _0x154db2=0x0;_0x154db2<_0x2b31e8[\\'length\\'];_0x154db2++){var _0x2760ba=_0x2b31e8[_0x154db2][_0x2ef1e0(0xcd)]();_0x2760ba!==\\'\\'&&(_0x42de76[_0x2760ba]=!![]);}}}var _0x56212a=Object[_0x2ef1e0(0xe6)](_0x42de76),_0x3d6090=_0x56212a[_0x2ef1e0(0xd4)](\\',\\'),_0x6ee018=_0x2ef1e0(0xad)+getPidDigestSalt();xrcpc(_0x6ee018,_0x3d6090,0x2);}catch(_0x682770){radSetErrCook(\\'cl\\');}},0x7d0);}());}catch(_0x569e75){}function hcD(){var _0x538f3f=_0x1f255a;try{var _0x255f87=document[_0x538f3f(0xe8)][_0x538f3f(0xe2)](_0x538f3f(0xa9)),_0x5d1ed2=null;for(var _0x435114=_0x255f87[_0x538f3f(0xbc)]-0x1;_0x435114>=0x0;_0x435114--){var _0x4d2cf1=_0x255f87[_0x435114];if(_0x4d2cf1[_0x538f3f(0xfc)][_0x538f3f(0xb0)][\\'toLowerCase\\']()===_0x538f3f(0xe8)){_0x5d1ed2=_0x4d2cf1;break;}}if(_0x5d1ed2!==null){var _0x1b6bd2=_0x5d1ed2[_0x538f3f(0xe2)](_0x538f3f(0xe7));if(_0x1b6bd2[_0x538f3f(0xbc)]>0x0&&_0x1b6bd2[0x0][_0x538f3f(0xe9)][\\'includes\\'](_0x538f3f(0xd9)))return _0x5d1ed2;}}catch(_0x5a3012){}return null;}function setRadCfdbs(){var _0x42d551=_0x1f255a;try{setTimeout(function(){var _0x53eb49=_0x30d8,_0x2cc7fd=hcD();if(_0x2cc7fd===null)return;radCfdbs=_0x2cc7fd[_0x53eb49(0xbe)];},0x3e8);}catch(_0x15aa33){radSetErrCook(_0x42d551(0xc6));}}(function(){var _0x45fd73=_0x1f255a;document[\\'readyState\\']===_0x45fd73(0xc4)||document[\\'readyState\\']===_0x45fd73(0xb4)?setRadCfdbs():document[_0x45fd73(0xee)](_0x45fd73(0xae),function(){setRadCfdbs();});}());function mb3tx(){var _0x190fd1=_0x1f255a;try{var _0x2da4f5=\\'3\\',_0x267541=\\'xz\\',_0x271c14=\\'y\\',_0x11a93d=\\'k\\',_0x43f0d6=\\'0\\',_0x1a80ec=\\'0\\',_0xfd3f90=hcD();if(_0xfd3f90===null)return;var _0x8613ef=_0xfd3f90[\\'outerHTML\\'];radCfdbs!==null&&(_0x2da4f5=_0x8613ef!=radCfdbs?\\'1\\':\\'2\\');_0x267541=_0xfd3f90[_0x190fd1(0xfb)][_0x190fd1(0xb2)],_0x271c14=_0xfd3f90[_0x190fd1(0xfb)][_0x190fd1(0xc2)],_0x11a93d=_0xfd3f90[_0x190fd1(0xfb)][_0x190fd1(0xd6)];_0x267541==\\'block\\'&&(_0x267541=\\'blk\\');_0x11a93d==_0x190fd1(0xc7)&&(_0x11a93d=\\'vbe\\');_0x11a93d==_0x190fd1(0xbd)&&(_0x11a93d=_0x190fd1(0xec));var _0x2d5f17=_0xfd3f90[_0x190fd1(0xdd)](_0x190fd1(0xa9));_0x43f0d6=_0x2d5f17[_0x190fd1(0xfb)][_0x190fd1(0xef)],_0x1a80ec=_0x2d5f17[\\'style\\'][_0x190fd1(0x100)];var _0x446489=Math[_0x190fd1(0xb9)](Date[_0x190fd1(0xe1)]()/0x3e8)[\\'toString\\']();radCfresOp=_0x446489+\\'-\\'+_0x2da4f5+\\'-\\'+_0x271c14+\\'-\\'+_0x11a93d+\\'-\\'+_0x267541+\\'-\\'+_0x1a80ec[_0x190fd1(0xdf)](\\'px\\',\\'\\')+\\'-\\'+_0x43f0d6[\\'replace\\'](\\'px\\',\\'\\');}catch(_0x5e3524){radSetErrCook(\\'csso\\');}}function mb4tx(){var _0x3c780=_0x1f255a;try{var _0x74e334=\\'3\\',_0x45560d=\\'xz\\',_0x2a2460=\\'y\\',_0x5add97=\\'k\\',_0x3e7394=\\'0\\',_0x220e97=\\'0\\',_0x40bcf2=hcD();if(_0x40bcf2===null)return;var _0x46c3ab=_0x40bcf2[_0x3c780(0xbe)];radCfdbs!==null&&(_0x74e334=_0x46c3ab!=radCfdbs?\\'1\\':\\'2\\');_0x45560d=_0x40bcf2[_0x3c780(0xfb)][_0x3c780(0xb2)],_0x2a2460=_0x40bcf2[_0x3c780(0xfb)][\\'opacity\\'],_0x5add97=_0x40bcf2[\\'style\\'][_0x3c780(0xd6)];_0x45560d==_0x3c780(0xf7)&&(_0x45560d=_0x3c780(0xcf));_0x5add97==_0x3c780(0xc7)&&(_0x5add97=_0x3c780(0xcc));_0x5add97==_0x3c780(0xbd)&&(_0x5add97=\\'hdn\\');var _0x22856e=_0x40bcf2[_0x3c780(0xdd)](_0x3c780(0xa9));_0x3e7394=_0x22856e[_0x3c780(0xfb)][_0x3c780(0xef)],_0x220e97=_0x22856e[\\'style\\'][_0x3c780(0x100)];var _0x27e081=_0x74e334+\\'-\\'+_0x2a2460+\\'-\\'+_0x5add97+\\'-\\'+_0x45560d+\\'-\\'+_0x220e97[\\'replace\\'](\\'px\\',\\'\\')+\\'-\\'+_0x3e7394[_0x3c780(0xdf)](\\'px\\',\\'\\'),_0x13704a=\\'cbfcs\\'+getPidDigestSalt();xrcpc(_0x13704a,radCfresOp+\\'::\\'+_0x27e081,0x2);}catch(_0x4e578d){radSetErrCook(_0x3c780(0xa8));}}function radSetErrCook(_0x3bf7f0,_0x5b0846=0x1){var _0xa01117=_0x1f255a;try{radCfeMap[_0x3bf7f0]=_0x5b0846,xrcpc(_0xa01117(0xbf)+getPidDigestSalt(),JSON[\\'stringify\\'](radCfeMap),0x2);}catch(_0x11fb97){xrcpc(\\'cbfer\\'+getPidDigestSalt(),_0x11fb97[\\'toString\\'](),0x2);}}\\n</script>\\n    </head>\\n<body>\\n<div class=\"container\">\\n    <div class=\"row\">\\n        <div class=\"col-1\">\\n            <img src=\"https://captcha.perfdrive.com/captcha-public/images/ss_captcha.png\" alt=\"Captcha Page\">\\n        </div>\\n        <div class=\"col-2\">\\n            <h1>We apologize for the inconvenience...</h1>\\n            <p>...but your activity and behavior on this site made us think that you are a bot.</p>\\n            <p><b>Note:</b> A number of things could be going on here.</p>\\n            <ol>\\n                <li>If you are attempting to access this site using an anonymous Private/Proxy network, please disable that and try accessing site again.</li>\\n                <li>Due to previously detected malicious behavior which originated from the network you\\'re using, please request unblock to site.</li>\\n            </ol>\\n        </div>\\n    </div>\\n    <center><b>Incident ID:</b> 90aa9418-bjun-4eb0-a489-2963c1ccaa3a<center>\\n    <div class=\"row\">\\n        <br>\\n        <div>\\n            <center>\\n                <p><b> Please solve this CAPTCHA to request unblock to the website </b></p>\\n            </center>\\n        </div>\\n        <br>\\n        <div class=\"captcha-mid\">\\n            <form action=\"\" method=POST style=\"width:300px;margin-left:auto;margin-right:auto;\">\\n                <script type=\"text/javascript\" src=\"https://hcaptcha.com/1/api.js?recaptchacompat=off\"></script>\\n                <div class=\"h-captcha\" data-sitekey=\"ae73173b-7003-44e0-bc87-654d0dab8b75\" data-open-callback=\"hOpenRad\" data-callback=\"hSolvedRad\"></div><br>\\n                <center>\\n                    <input id=\"cf_input\" type=\"hidden\" name=\"cfi\" value=\"\">\\n                    <br><input type=\"submit\" class=\"btn btn-success btn-sm\" Value=\"Submit\"><br>\\n                </center>\\n            </form>\\n        </div>\\n    </div>\\n</div>\\n</body>\\n<div class=\"footer\">\\n    <div class=\"footer\">\\n\\t<p class=\"text-muted credit\">\\n\\t\\tYou reached this page when trying to access\\n\\t\\t<b>https://www.bcrp.gob.pe/</b> from\\n\\t\\t<b>181.67.138.102</b> on\\n\\t\\t<b>December 18 2024, 01:51:42 UTC</b>\\n\\t</p>\\n</div>\\n</div>\\n</html>'"
      ]
     },
     "execution_count": 68,
     "metadata": {},
     "output_type": "execute_result"
    }
   ],
   "source": [
    "bcrp_web = requests.get(\"https://www.bcrp.gob.pe\")\n",
    "content_bcrp = bcrp_web.content\n",
    "content_bcrp"
   ]
  },
  {
   "cell_type": "code",
   "execution_count": 80,
   "metadata": {},
   "outputs": [
    {
     "data": {
      "text/plain": [
       "<!DOCTYPE html>\n",
       "\n",
       "<html>\n",
       "<head>\n",
       "<title>A simple example page</title>\n",
       "</head>\n",
       "<body>\n",
       "<p>Here is some simple content for this page.</p>\n",
       "</body>\n",
       "</html>"
      ]
     },
     "execution_count": 80,
     "metadata": {},
     "output_type": "execute_result"
    }
   ],
   "source": [
    "from bs4 import BeautifulSoup\n",
    "\n",
    "# Initialize the parser, and pass in the content we grabbed earlier.\n",
    "parser = BeautifulSoup(content, 'html.parser')\n",
    "parser\n",
    "\n",
    "# # # Get the body tag from the document.\n",
    "# # # Since we passed in the top level of the document to the parser, we need to pick a branch off of the root.\n",
    "# # # With BeautifulSoup, we can access branches by using tag types as attributes.\n",
    "# body = parser.body\n",
    "# # body\n",
    "\n",
    "# # # Get the p tag from the body.\n",
    "# p = body.p\n",
    "# # p\n",
    "\n",
    "# # # Print the text inside the p tag.\n",
    "# # # Text is a property that gets the inside text of a tag.\n",
    "# # print(p.text)\n",
    "\n",
    "# # # Get the text from the html tag\n",
    "# title_text = parser.head.title.text\n",
    "# print(title_text)\n"
   ]
  },
  {
   "cell_type": "markdown",
   "metadata": {},
   "source": [
    "## Applying methods"
   ]
  },
  {
   "cell_type": "markdown",
   "metadata": {},
   "source": [
    "Use the tag type as a property is not always the best way to parse a document. It's usually better to be more specific by using the `find_all` method. This method will find all occurrences of a tag in the current element, and return a list.\n",
    "\n",
    "If we only want the first occurrence of an item, we'll need to index the list to get it. Aside from this difference, the process is the same as passing in the tag type as an attribute."
   ]
  },
  {
   "cell_type": "code",
   "execution_count": 81,
   "metadata": {},
   "outputs": [
    {
     "name": "stdout",
     "output_type": "stream",
     "text": [
      "Here is some simple content for this page.\n"
     ]
    }
   ],
   "source": [
    "# Get a list of all occurrences of the body tag in the element.\n",
    "body = parser.find_all(\"body\")\n",
    "\n",
    "# Get the paragraph tag.\n",
    "p = body[0].find_all(\"p\")\n",
    "\n",
    "# Get the text.\n",
    "print(p[0].text)"
   ]
  },
  {
   "cell_type": "code",
   "execution_count": 82,
   "metadata": {},
   "outputs": [
    {
     "name": "stdout",
     "output_type": "stream",
     "text": [
      "[<p>Here is some simple content for this page.</p>]\n"
     ]
    }
   ],
   "source": [
    "print(p)"
   ]
  },
  {
   "cell_type": "markdown",
   "metadata": {},
   "source": []
  },
  {
   "cell_type": "markdown",
   "metadata": {},
   "source": [
    "## Element IDs"
   ]
  },
  {
   "cell_type": "markdown",
   "metadata": {},
   "source": [
    "HTML allows elements to have IDs. Because they are unique, we can use an ID to refer to a specific element.\n",
    "\n",
    "Here's an example page:"
   ]
  },
  {
   "cell_type": "markdown",
   "metadata": {},
   "source": [
    "```html\n",
    "<html>\n",
    "    <head>\n",
    "        <title> A simple example page </title>\n",
    "    </head>\n",
    "    <body>\n",
    "        <div>\n",
    "            <p id=\"first\">\n",
    "                First paragraph\n",
    "            </p>\n",
    "        </div>\n",
    "        <p id=\"second\">\n",
    "            <b>\n",
    "                Second paragraph\n",
    "            </b>\n",
    "        </p>\n",
    "    </body>\n",
    "</html>\n",
    "```"
   ]
  },
  {
   "cell_type": "markdown",
   "metadata": {},
   "source": [
    "HTML uses the `div` tag to create a divider that splits the page into logical units. We can think of a divider as a \"box\" that contains content. For example, different dividers hold a web page's footer, sidebar, and horizontal menu.\n",
    "\n",
    "There are two paragraphs on this page. The first is nested inside a `div`. Luckily, the paragraphs have IDs. This means we can access them easily, even though they're nested."
   ]
  },
  {
   "cell_type": "code",
   "execution_count": 83,
   "metadata": {},
   "outputs": [
    {
     "name": "stdout",
     "output_type": "stream",
     "text": [
      "\n",
      "                First paragraph.\n",
      "            \n"
     ]
    }
   ],
   "source": [
    "# Get the page content and set up a new parser.\n",
    "response = requests.get(\"http://dataquestio.github.io/web-scraping-pages/simple_ids.html\")\n",
    "content = response.content\n",
    "parser = BeautifulSoup(content, 'html.parser')\n",
    "\n",
    "\n",
    "# Pass in the ID attribute to only get the element with that specific ID.\n",
    "first_paragraph = parser.find_all(\"p\", id=\"first\")[0]\n",
    "print(first_paragraph.text)"
   ]
  },
  {
   "cell_type": "code",
   "execution_count": 84,
   "metadata": {},
   "outputs": [
    {
     "name": "stdout",
     "output_type": "stream",
     "text": [
      "\n",
      "                First paragraph.\n",
      "            \n",
      "\n",
      "\n",
      "                Second paragraph.\n",
      "            \n",
      "\n"
     ]
    }
   ],
   "source": [
    "for elem in parser.find_all(\"p\"):\n",
    "    print(elem.text)"
   ]
  }
 ],
 "metadata": {
  "hide_input": false,
  "kernelspec": {
   "display_name": "base",
   "language": "python",
   "name": "python3"
  },
  "language_info": {
   "codemirror_mode": {
    "name": "ipython",
    "version": 3
   },
   "file_extension": ".py",
   "mimetype": "text/x-python",
   "name": "python",
   "nbconvert_exporter": "python",
   "pygments_lexer": "ipython3",
   "version": "3.11.7"
  },
  "toc": {
   "base_numbering": 1,
   "nav_menu": {},
   "number_sections": true,
   "sideBar": true,
   "skip_h1_title": false,
   "title_cell": "Table of Contents",
   "title_sidebar": "Contents",
   "toc_cell": false,
   "toc_position": {},
   "toc_section_display": true,
   "toc_window_display": false
  }
 },
 "nbformat": 4,
 "nbformat_minor": 4
}
